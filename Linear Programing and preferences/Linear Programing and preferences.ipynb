{
 "cells": [
  {
   "cell_type": "markdown",
   "metadata": {},
   "source": [
    "# Exercise\n",
    "\n",
    "A toy manufacturing organization manufactures two types of toys A and B. Both the toys are sold at 25€ and 20€ respectively. There are 2000 resource units available every day from which the toy A requires 20 units while toy B requires 12 units. Both of these toys require a production time of 5 minutes. Total working hours are 9 hours a day. What should be the manufacturing quantity for each of the pipes to maximize the profits ?"
   ]
  },
  {
   "cell_type": "code",
   "execution_count": 65,
   "metadata": {},
   "outputs": [
    {
     "data": {
      "text/plain": [
       "1"
      ]
     },
     "execution_count": 65,
     "metadata": {},
     "output_type": "execute_result"
    }
   ],
   "source": [
    "from pulp import *\n",
    "\n",
    "prob = LpProblem(\"Toys_Problem\", LpMaximize)\n",
    "\n",
    "#Crete problem variables\n",
    "x = LpVariable(\"Toy A\", 0, None, LpInteger)\n",
    "y = LpVariable(\"Toy B\", 0, None, LpInteger)\n",
    "\n",
    "#The objective function is added\n",
    "prob += 25*x + 20*y, \"Total profit; to be maximized\"\n",
    "\n",
    "#The two constraints are entered\n",
    "prob += 20*x + 12*y <=2000, \"Constraint of the resource\"\n",
    "prob += 5*x + 5*y <= 540, \"Constraint of the time\"\n",
    "\n",
    "prob.writeLP(\"Toys_Problem.lp\")\n",
    "\n",
    "prob.solve()"
   ]
  },
  {
   "cell_type": "code",
   "execution_count": 66,
   "metadata": {},
   "outputs": [
    {
     "name": "stdout",
     "output_type": "stream",
     "text": [
      "Status: Optimal\n"
     ]
    }
   ],
   "source": [
    "#The status of the solution\n",
    "print(\"Status:\", LpStatus[prob.status])"
   ]
  },
  {
   "cell_type": "code",
   "execution_count": 67,
   "metadata": {},
   "outputs": [
    {
     "name": "stdout",
     "output_type": "stream",
     "text": [
      "Toy_A = 88.0\n",
      "Toy_B = 20.0\n"
     ]
    }
   ],
   "source": [
    "for v in prob.variables():\n",
    "    print(v.name, \"=\", v.varValue)"
   ]
  },
  {
   "cell_type": "code",
   "execution_count": 68,
   "metadata": {},
   "outputs": [
    {
     "name": "stdout",
     "output_type": "stream",
     "text": [
      "Total Profit =  2600.0\n"
     ]
    }
   ],
   "source": [
    "#The optimised objective function value\n",
    "print(\"Total Profit = \", value(prob.objective))"
   ]
  },
  {
   "cell_type": "markdown",
   "metadata": {},
   "source": [
    "Our aim is to help Mr Doe to choose some sites to visit during these two days. You can use some linear programming models or another approach to do this. Use a python code to answer the following questions :\n",
    "\n",
    "1. It is assumed that Mr. Doe gives equal importance to each tourist site, and he wants to visit the maximum number of sites. Which list(s) of places could you recommend to him ? This solution will be called ListVisit 1."
   ]
  },
  {
   "cell_type": "code",
   "execution_count": 70,
   "metadata": {},
   "outputs": [],
   "source": [
    "from numpy import matrixlib as npmat\n",
    "import pandas as pd\n",
    "import numpy as np\n",
    "places = [\"TE\", \"ML\", \"AT\", \"MO\", \"JT\", \"CA\", \"CP\", \"CN\", \"BS\", \"SC\", \"PC\", \"TM\", \"AC\"]\n",
    "\n",
    "places_names = {\"TE\": \"La Tour Eiffel\", \"ML\":\"Le Musée du louvre\", \"AT\":\"l’Arc de triomphe\", \n",
    "                \"MO\":\"le Musée d’Orsay\", \"JT\":\"le Jardin des tuileries\", \"CA\":\"les Catacombes\", \n",
    "                \"CP\":\"le Centre Pompidou\", \"CN\":\"la Cathédrale Notre Dame de Paris\", \"BS\":\"la Basilique du Sacré-Coeur\",\n",
    "                \"SC\":\"la Sainte Chapelle\", \"PC\":\"La Place de la Concorde\", \"TM\":\"la Tour Montparnasse\", \"AC\":\"l’Avenue des Champs-Elysées\"}\n",
    "\n",
    "duration = [4.5, 3, 1, 2, 1.5, 2, 2.5, 2, 2, 1.5, 0.75, 2, 1.5]\n",
    "price = [15.5, 12, 9.5, 11, 0, 10, 10, 5, 8, 8.5, 0, 15, 0]\n",
    "rating = [5, 4, 3, 2, 3, 4, 1, 5, 4, 1, 3, 2, 5]"
   ]
  },
  {
   "cell_type": "code",
   "execution_count": 71,
   "metadata": {},
   "outputs": [
    {
     "name": "stdout",
     "output_type": "stream",
     "text": [
      "AC - l’Avenue des Champs-Elysées\n",
      "AT - l’Arc de triomphe\n",
      "BS - la Basilique du Sacré-Coeur\n",
      "CA - les Catacombes\n",
      "CN - la Cathédrale Notre Dame de Paris\n",
      "PC - La Place de la Concorde\n",
      "SC - la Sainte Chapelle\n",
      "Number of places in the ListVisit -  7.0\n"
     ]
    },
    {
     "data": {
      "text/plain": [
       "['AC', 'AT', 'BS', 'CA', 'CN', 'PC', 'SC']"
      ]
     },
     "execution_count": 71,
     "metadata": {},
     "output_type": "execute_result"
    }
   ],
   "source": [
    "List_Visit_1=[]\n",
    "\n",
    "def ListVisit1():\n",
    "    prob = LpProblem(\"How_to_visit_Paris\", LpMaximize)\n",
    "    \n",
    "    rec_place = []\n",
    "    for place in places:\n",
    "        rec_place.append(LpVariable(place, 0, 1, LpInteger))\n",
    "\n",
    "    #Objective function - ListVisit1\n",
    "    number_of_sites = 0\n",
    "    for place in rec_place:\n",
    "        number_of_sites += place\n",
    "\n",
    "    prob += number_of_sites, \"Objective Function\"\n",
    "\n",
    "    #Basic constraints of time and price\n",
    "    index = 0\n",
    "    places_total_price = 0\n",
    "    places_total_duration = 0\n",
    "\n",
    "    for r in rec_place:\n",
    "        places_total_price += r * price[index]\n",
    "        places_total_duration += r * duration[index]\n",
    "        index += 1\n",
    "\n",
    "    prob += places_total_price <= 65, \"Constraint of the price\"\n",
    "    prob += places_total_duration <= 12, \"Constraint of the duration\"\n",
    "\n",
    "    prob.writeLP(\"How_to_visit_Paris.lp\")\n",
    "    prob.solve() \n",
    "    \n",
    "    for v in prob.variables():\n",
    "        if v.varValue == 1.0:\n",
    "            print(v.name, \"-\", places_names[v.name])\n",
    "            List_Visit_1.append(v.name)\n",
    "    print(\"Number of places in the ListVisit - \", value(prob.objective))\n",
    "            \n",
    "ListVisit1()\n",
    "List_Visit_1"
   ]
  },
  {
   "cell_type": "markdown",
   "metadata": {},
   "source": [
    "Actually, Mr. Doe has some preferences among these tourist sites and he expresses them as follows :\n",
    "\n",
    "• Preference 1 : If two sites are geographically very close (within a radius of 1 km of walking), he will prefer to visit these two sites instead of visiting only one.\n",
    "\n",
    "• Preference 2 : He absolutely wants to visit the Eiffel Tower (TE) and Catacombes (CA).\n",
    "\n",
    "• Preference 3 : If he visits Notre Dame Cathedral (CN) then he will not visit the Sainte Chapelle (SC).\n",
    "\n",
    "• Preference 4 : He absolutely wants to visit Tour Montparnasse (TM).\n",
    "\n",
    "• Preference 5 : If he visits the Louvre (ML) Museum then he must visit the Pompidou Center (CP)."
   ]
  },
  {
   "cell_type": "code",
   "execution_count": 72,
   "metadata": {},
   "outputs": [],
   "source": [
    "def how_to_visit_Paris(p1, p2, p3, p4, p5):\n",
    "    rank=[]\n",
    "    prob1 = LpProblem(\"How_to_visit_Paris\", LpMaximize)\n",
    "    \n",
    "    rec_place = []\n",
    "    for place in places:\n",
    "        rec_place.append(LpVariable(place, 0, 1, LpInteger))\n",
    "\n",
    "    #Objective function\n",
    "    number_of_sites = 0\n",
    "    for place in rec_place:\n",
    "        number_of_sites += place\n",
    "\n",
    "    prob1 += number_of_sites, \"Objective Function\"\n",
    "\n",
    "    #Basic constraints of time and price\n",
    "    index = 0\n",
    "    places_total_price = 0\n",
    "    places_total_duration = 0\n",
    "\n",
    "    for r in rec_place:\n",
    "        places_total_price += r * price[index]\n",
    "        places_total_duration += r * duration[index]\n",
    "        index += 1\n",
    "\n",
    "    prob1 += places_total_price <= 65, \"Constraint of the price\"\n",
    "    prob1 += places_total_duration <= 12, \"Constraint of the duration\"\n",
    "        \n",
    "    \"\"\"Preference constraint\"\"\"\n",
    "    if p1 == 1:\n",
    "        prob1 += rec_place[3] == rec_place[4]  #(MO,JT)\n",
    "        prob1 += rec_place[6] == rec_place[7]  #(CN,CP)\n",
    "        prob1 += rec_place[1] == rec_place[6] == rec_place[7] == rec_place[9]  #(SC,ML,CP,CN)\n",
    "    if p2 == 1:\n",
    "        prob1 += rec_place[0] + rec_place[5] == 2\n",
    "    if p3 == 1:\n",
    "        prob1 += rec_place[7] + rec_place[9] <= 1\n",
    "    if p4 == 1:\n",
    "        prob1 += rec_place[11] == 1\n",
    "    if p5 == 1:\n",
    "        prob1 += rec_place[1] == rec_place[6]\n",
    "\n",
    "    prob1.writeLP(\"How_to_visit_Paris.lp\")\n",
    "    prob1.solve() \n",
    "    \n",
    "    for v in prob1.variables():\n",
    "        if v.varValue == 1.0:\n",
    "            print(v.name, \"-\", places_names[v.name])\n",
    "            rank.append(v.name)\n",
    "        \n",
    "    print(\"Number of places in the ListVisit - \", value(prob1.objective))\n",
    "    print()\n",
    "    print(\"Are the obtained lists different from the solution ListVisit1 ?\")\n",
    "    if rank == List_Visit_1:\n",
    "        print(\"Obtained list is the same as ListVisit1.\")\n",
    "    else:\n",
    "        print(\"Obtained list is different from the ListVisit1.\")"
   ]
  },
  {
   "cell_type": "markdown",
   "metadata": {},
   "source": [
    "(a) For each of the five preferences above, suggest to Mr. Doe, one or more lists of tourist sites to visit. Are the obtained lists different from the solution ListVisit 1 ? To answer this last question, you can implement a python function returning True (respectively False) if two lists are identical (respectively different)."
   ]
  },
  {
   "cell_type": "code",
   "execution_count": 73,
   "metadata": {},
   "outputs": [
    {
     "name": "stdout",
     "output_type": "stream",
     "text": [
      "List Visit with Preference 1:\n",
      "AC - l’Avenue des Champs-Elysées\n",
      "AT - l’Arc de triomphe\n",
      "CA - les Catacombes\n",
      "JT - le Jardin des tuileries\n",
      "MO - le Musée d’Orsay\n",
      "PC - La Place de la Concorde\n",
      "TM - la Tour Montparnasse\n",
      "Number of places in the ListVisit -  7.0\n",
      "\n",
      "Are the obtained lists different from the solution ListVisit1 ?\n",
      "Obtained list is different from the ListVisit1.\n"
     ]
    }
   ],
   "source": [
    "print(\"List Visit with Preference 1:\")\n",
    "how_to_visit_Paris(1, 0, 0, 0, 0)"
   ]
  },
  {
   "cell_type": "code",
   "execution_count": 74,
   "metadata": {},
   "outputs": [
    {
     "name": "stdout",
     "output_type": "stream",
     "text": [
      "List Visit with Preference 2:\n",
      "AC - l’Avenue des Champs-Elysées\n",
      "AT - l’Arc de triomphe\n",
      "CA - les Catacombes\n",
      "PC - La Place de la Concorde\n",
      "SC - la Sainte Chapelle\n",
      "TE - La Tour Eiffel\n",
      "Number of places in the ListVisit -  6.0\n",
      "\n",
      "Are the obtained lists different from the solution ListVisit1 ?\n",
      "Obtained list is different from the ListVisit1.\n"
     ]
    }
   ],
   "source": [
    "print(\"List Visit with Preference 2:\")\n",
    "how_to_visit_Paris(0, 1, 0, 0, 0)"
   ]
  },
  {
   "cell_type": "code",
   "execution_count": 75,
   "metadata": {},
   "outputs": [
    {
     "name": "stdout",
     "output_type": "stream",
     "text": [
      "List Visit with Preference 3:\n",
      "AC - l’Avenue des Champs-Elysées\n",
      "AT - l’Arc de triomphe\n",
      "BS - la Basilique du Sacré-Coeur\n",
      "CA - les Catacombes\n",
      "MO - le Musée d’Orsay\n",
      "PC - La Place de la Concorde\n",
      "SC - la Sainte Chapelle\n",
      "Number of places in the ListVisit -  7.0\n",
      "\n",
      "Are the obtained lists different from the solution ListVisit1 ?\n",
      "Obtained list is different from the ListVisit1.\n"
     ]
    }
   ],
   "source": [
    "print(\"List Visit with Preference 3:\")\n",
    "how_to_visit_Paris(0, 0, 1, 0, 0)"
   ]
  },
  {
   "cell_type": "code",
   "execution_count": 76,
   "metadata": {},
   "outputs": [
    {
     "name": "stdout",
     "output_type": "stream",
     "text": [
      "List Visit with Preference 4:\n",
      "AC - l’Avenue des Champs-Elysées\n",
      "AT - l’Arc de triomphe\n",
      "BS - la Basilique du Sacré-Coeur\n",
      "CN - la Cathédrale Notre Dame de Paris\n",
      "PC - La Place de la Concorde\n",
      "SC - la Sainte Chapelle\n",
      "TM - la Tour Montparnasse\n",
      "Number of places in the ListVisit -  7.0\n",
      "\n",
      "Are the obtained lists different from the solution ListVisit1 ?\n",
      "Obtained list is different from the ListVisit1.\n"
     ]
    }
   ],
   "source": [
    "print(\"List Visit with Preference 4:\")\n",
    "how_to_visit_Paris(0, 0, 0, 1, 0)"
   ]
  },
  {
   "cell_type": "code",
   "execution_count": 77,
   "metadata": {},
   "outputs": [
    {
     "name": "stdout",
     "output_type": "stream",
     "text": [
      "List Visit with Preference 5:\n",
      "AC - l’Avenue des Champs-Elysées\n",
      "AT - l’Arc de triomphe\n",
      "BS - la Basilique du Sacré-Coeur\n",
      "CN - la Cathédrale Notre Dame de Paris\n",
      "MO - le Musée d’Orsay\n",
      "PC - La Place de la Concorde\n",
      "SC - la Sainte Chapelle\n",
      "Number of places in the ListVisit -  7.0\n",
      "\n",
      "Are the obtained lists different from the solution ListVisit1 ?\n",
      "Obtained list is different from the ListVisit1.\n"
     ]
    }
   ],
   "source": [
    "print(\"List Visit with Preference 5:\")\n",
    "how_to_visit_Paris(0, 0, 0, 0, 1)"
   ]
  },
  {
   "cell_type": "markdown",
   "metadata": {},
   "source": [
    "(b) If Mr. Doe wishes, at the same time, to take into account Preference 1 and Preference 2, which list(s) would you recommend to him ?"
   ]
  },
  {
   "cell_type": "code",
   "execution_count": 78,
   "metadata": {},
   "outputs": [
    {
     "name": "stdout",
     "output_type": "stream",
     "text": [
      "List Visit with Preferences 1 and 2:\n",
      "AC - l’Avenue des Champs-Elysées\n",
      "AT - l’Arc de triomphe\n",
      "CA - les Catacombes\n",
      "PC - La Place de la Concorde\n",
      "TE - La Tour Eiffel\n",
      "TM - la Tour Montparnasse\n",
      "Number of places in the ListVisit -  6.0\n",
      "\n",
      "Are the obtained lists different from the solution ListVisit1 ?\n",
      "Obtained list is different from the ListVisit1.\n"
     ]
    }
   ],
   "source": [
    "print(\"List Visit with Preferences 1 and 2:\")\n",
    "how_to_visit_Paris(1, 1, 0, 0, 0)"
   ]
  },
  {
   "cell_type": "markdown",
   "metadata": {},
   "source": [
    "(c) If Mr. Doe wishes, at the same time, to take into account Preference 1 and Preference 3, which list(s) would you recommend to him ?"
   ]
  },
  {
   "cell_type": "code",
   "execution_count": 79,
   "metadata": {},
   "outputs": [
    {
     "name": "stdout",
     "output_type": "stream",
     "text": [
      "List Visit with Preferences 1 and 3:\n",
      "AC - l’Avenue des Champs-Elysées\n",
      "AT - l’Arc de triomphe\n",
      "CA - les Catacombes\n",
      "JT - le Jardin des tuileries\n",
      "MO - le Musée d’Orsay\n",
      "PC - La Place de la Concorde\n",
      "TM - la Tour Montparnasse\n",
      "Number of places in the ListVisit -  7.0\n",
      "\n",
      "Are the obtained lists different from the solution ListVisit1 ?\n",
      "Obtained list is different from the ListVisit1.\n"
     ]
    }
   ],
   "source": [
    "print(\"List Visit with Preferences 1 and 3:\")\n",
    "how_to_visit_Paris(1, 0, 1, 0, 0)"
   ]
  },
  {
   "cell_type": "markdown",
   "metadata": {},
   "source": [
    "(d) If Mr. Doe wishes, at the same time, to take into account Preference 1 and Preference 4, which list(s) would you recommend to him ?"
   ]
  },
  {
   "cell_type": "code",
   "execution_count": 80,
   "metadata": {},
   "outputs": [
    {
     "name": "stdout",
     "output_type": "stream",
     "text": [
      "List Visit with Preferences 1 and 4:\n",
      "AC - l’Avenue des Champs-Elysées\n",
      "AT - l’Arc de triomphe\n",
      "CA - les Catacombes\n",
      "JT - le Jardin des tuileries\n",
      "MO - le Musée d’Orsay\n",
      "PC - La Place de la Concorde\n",
      "TM - la Tour Montparnasse\n",
      "Number of places in the ListVisit -  7.0\n",
      "\n",
      "Are the obtained lists different from the solution ListVisit1 ?\n",
      "Obtained list is different from the ListVisit1.\n"
     ]
    }
   ],
   "source": [
    "print(\"List Visit with Preferences 1 and 4:\")\n",
    "how_to_visit_Paris(1, 0, 0, 1, 0)"
   ]
  },
  {
   "cell_type": "markdown",
   "metadata": {},
   "source": [
    "(e) If Mr. Doe wishes, at the same time, to take into account Preference 2 and Preference 5, which list(s) would you recommend to him ?"
   ]
  },
  {
   "cell_type": "code",
   "execution_count": 81,
   "metadata": {},
   "outputs": [
    {
     "name": "stdout",
     "output_type": "stream",
     "text": [
      "List Visit with Preferences 2 and 5:\n",
      "AC - l’Avenue des Champs-Elysées\n",
      "AT - l’Arc de triomphe\n",
      "CA - les Catacombes\n",
      "JT - le Jardin des tuileries\n",
      "PC - La Place de la Concorde\n",
      "TE - La Tour Eiffel\n",
      "Number of places in the ListVisit -  6.0\n",
      "\n",
      "Are the obtained lists different from the solution ListVisit1 ?\n",
      "Obtained list is different from the ListVisit1.\n"
     ]
    }
   ],
   "source": [
    "print(\"List Visit with Preferences 2 and 5:\")\n",
    "how_to_visit_Paris(0, 1, 0, 0, 1)"
   ]
  },
  {
   "cell_type": "markdown",
   "metadata": {},
   "source": [
    "(f) If Mr. Doe wishes, at the same time, to take into account Preference 3 and Preference 4, which list(s) would you recommend to him ?"
   ]
  },
  {
   "cell_type": "code",
   "execution_count": 82,
   "metadata": {},
   "outputs": [
    {
     "name": "stdout",
     "output_type": "stream",
     "text": [
      "List Visit with Preferences 3 and 4:\n",
      "AC - l’Avenue des Champs-Elysées\n",
      "AT - l’Arc de triomphe\n",
      "BS - la Basilique du Sacré-Coeur\n",
      "CA - les Catacombes\n",
      "PC - La Place de la Concorde\n",
      "SC - la Sainte Chapelle\n",
      "TM - la Tour Montparnasse\n",
      "Number of places in the ListVisit -  7.0\n",
      "\n",
      "Are the obtained lists different from the solution ListVisit1 ?\n",
      "Obtained list is different from the ListVisit1.\n"
     ]
    }
   ],
   "source": [
    "print(\"List Visit with Preferences 3 and 4:\")\n",
    "how_to_visit_Paris(0, 0, 1, 1, 0)"
   ]
  },
  {
   "cell_type": "markdown",
   "metadata": {},
   "source": [
    "(g) If Mr. Doe wishes, at the same time, to take into account Preference 4 and Preference 5, which list(s) would you recommend to him ?"
   ]
  },
  {
   "cell_type": "code",
   "execution_count": 83,
   "metadata": {},
   "outputs": [
    {
     "name": "stdout",
     "output_type": "stream",
     "text": [
      "List Visit with Preferences 4 and 5:\n",
      "AC - l’Avenue des Champs-Elysées\n",
      "AT - l’Arc de triomphe\n",
      "CN - la Cathédrale Notre Dame de Paris\n",
      "MO - le Musée d’Orsay\n",
      "PC - La Place de la Concorde\n",
      "SC - la Sainte Chapelle\n",
      "TM - la Tour Montparnasse\n",
      "Number of places in the ListVisit -  7.0\n",
      "\n",
      "Are the obtained lists different from the solution ListVisit1 ?\n",
      "Obtained list is different from the ListVisit1.\n"
     ]
    }
   ],
   "source": [
    "print(\"List Visit with Preferences 4 and 5:\")\n",
    "how_to_visit_Paris(0, 0, 0, 1, 1)"
   ]
  },
  {
   "cell_type": "markdown",
   "metadata": {},
   "source": [
    "(h) If Mr. Doe wishes, at the same time, to take into account Preference 1, Preference 2 and Preference 4, which list(s) would you recommend to him ?"
   ]
  },
  {
   "cell_type": "code",
   "execution_count": 84,
   "metadata": {},
   "outputs": [
    {
     "name": "stdout",
     "output_type": "stream",
     "text": [
      "List Visit with Preferences 1, 2 and 4:\n",
      "AC - l’Avenue des Champs-Elysées\n",
      "AT - l’Arc de triomphe\n",
      "CA - les Catacombes\n",
      "PC - La Place de la Concorde\n",
      "TE - La Tour Eiffel\n",
      "TM - la Tour Montparnasse\n",
      "Number of places in the ListVisit -  6.0\n",
      "\n",
      "Are the obtained lists different from the solution ListVisit1 ?\n",
      "Obtained list is different from the ListVisit1.\n"
     ]
    }
   ],
   "source": [
    "print(\"List Visit with Preferences 1, 2 and 4:\")\n",
    "how_to_visit_Paris(1, 1, 0, 1, 0)"
   ]
  },
  {
   "cell_type": "markdown",
   "metadata": {},
   "source": [
    "(i) If Mr. Doe wishes, at the same time, to take into account Preference 2, Preference 3 and Preference 5, which list(s) would you recommend to him ?"
   ]
  },
  {
   "cell_type": "code",
   "execution_count": 85,
   "metadata": {},
   "outputs": [
    {
     "name": "stdout",
     "output_type": "stream",
     "text": [
      "List Visit with Preferences 2, 3 and 5:\n",
      "AC - l’Avenue des Champs-Elysées\n",
      "AT - l’Arc de triomphe\n",
      "CA - les Catacombes\n",
      "JT - le Jardin des tuileries\n",
      "PC - La Place de la Concorde\n",
      "TE - La Tour Eiffel\n",
      "Number of places in the ListVisit -  6.0\n",
      "\n",
      "Are the obtained lists different from the solution ListVisit1 ?\n",
      "Obtained list is different from the ListVisit1.\n"
     ]
    }
   ],
   "source": [
    "print(\"List Visit with Preferences 2, 3 and 5:\")\n",
    "how_to_visit_Paris(0, 1, 1, 0, 1)"
   ]
  },
  {
   "cell_type": "markdown",
   "metadata": {},
   "source": [
    "(j) If Mr. Doe wishes, at the same time, to take into account Preference 2, Preference 3, Preference 4 and Preference 5, which list(s) would you recommend to him ?"
   ]
  },
  {
   "cell_type": "code",
   "execution_count": 86,
   "metadata": {},
   "outputs": [
    {
     "name": "stdout",
     "output_type": "stream",
     "text": [
      "List Visit with Preferences 2, 3, 4 and 5:\n",
      "AC - l’Avenue des Champs-Elysées\n",
      "AT - l’Arc de triomphe\n",
      "CA - les Catacombes\n",
      "PC - La Place de la Concorde\n",
      "TE - La Tour Eiffel\n",
      "TM - la Tour Montparnasse\n",
      "Number of places in the ListVisit -  6.0\n",
      "\n",
      "Are the obtained lists different from the solution ListVisit1 ?\n",
      "Obtained list is different from the ListVisit1.\n"
     ]
    }
   ],
   "source": [
    "print(\"List Visit with Preferences 2, 3, 4 and 5:\")\n",
    "how_to_visit_Paris(0, 1, 1, 1, 1)"
   ]
  },
  {
   "cell_type": "markdown",
   "metadata": {},
   "source": [
    "(k) If Mr. Doe wishes, at the same time, to take into account Preference 1, Preference 2, Preference 4 and Preference 5, which list(s) would you recommend to him ?"
   ]
  },
  {
   "cell_type": "code",
   "execution_count": 87,
   "metadata": {},
   "outputs": [
    {
     "name": "stdout",
     "output_type": "stream",
     "text": [
      "List Visit with Preferences 1, 2, 4 and 5:\n",
      "AC - l’Avenue des Champs-Elysées\n",
      "AT - l’Arc de triomphe\n",
      "CA - les Catacombes\n",
      "PC - La Place de la Concorde\n",
      "TE - La Tour Eiffel\n",
      "TM - la Tour Montparnasse\n",
      "Number of places in the ListVisit -  6.0\n",
      "\n",
      "Are the obtained lists different from the solution ListVisit1 ?\n",
      "Obtained list is different from the ListVisit1.\n"
     ]
    }
   ],
   "source": [
    "print(\"List Visit with Preferences 1, 2, 4 and 5:\")\n",
    "how_to_visit_Paris(1, 1, 0, 1, 1)"
   ]
  },
  {
   "cell_type": "markdown",
   "metadata": {},
   "source": [
    "(l) If Mr. Doe wishes, at the same time, to take into account Preference 1, Preference 2, Preference 3, Preference 4 and\n",
    "Preference 5, which list(s) would you recommend to him ?"
   ]
  },
  {
   "cell_type": "code",
   "execution_count": 88,
   "metadata": {},
   "outputs": [
    {
     "name": "stdout",
     "output_type": "stream",
     "text": [
      "List Visit with Preferences 1, 2, 3, 4 and 5:\n",
      "AC - l’Avenue des Champs-Elysées\n",
      "AT - l’Arc de triomphe\n",
      "CA - les Catacombes\n",
      "PC - La Place de la Concorde\n",
      "TE - La Tour Eiffel\n",
      "TM - la Tour Montparnasse\n",
      "Number of places in the ListVisit -  6.0\n",
      "\n",
      "Are the obtained lists different from the solution ListVisit1 ?\n",
      "Obtained list is different from the ListVisit1.\n"
     ]
    }
   ],
   "source": [
    "print(\"List Visit with Preferences 1, 2, 3, 4 and 5:\")\n",
    "how_to_visit_Paris(1, 1, 1, 1, 1)"
   ]
  },
  {
   "cell_type": "markdown",
   "metadata": {},
   "source": [
    "3. Let be :\n",
    "\n",
    "• %Dur the ranking of the touristic sites obtained by observing only the Duration criterion (see the column “Duration” of the Table above)\n",
    "\n",
    "• %App the ranking of the touristic sites obtained by observing only the Appreciations criterion (see the column “Appreciations” of the Table above)\n",
    "\n",
    "• %Pri the ranking of the touristic sites obtained by observing only the Price criterion (see the column “Price” of the Table above)\n",
    "\n",
    "Are these rankings two rankings different ? To answer this question, you can use the Kendall 1 or Spearman 2\n",
    "rank correlation coefficient."
   ]
  },
  {
   "cell_type": "code",
   "execution_count": 89,
   "metadata": {},
   "outputs": [
    {
     "data": {
      "text/html": [
       "<div>\n",
       "<style scoped>\n",
       "    .dataframe tbody tr th:only-of-type {\n",
       "        vertical-align: middle;\n",
       "    }\n",
       "\n",
       "    .dataframe tbody tr th {\n",
       "        vertical-align: top;\n",
       "    }\n",
       "\n",
       "    .dataframe thead th {\n",
       "        text-align: right;\n",
       "    }\n",
       "</style>\n",
       "<table border=\"1\" class=\"dataframe\">\n",
       "  <thead>\n",
       "    <tr style=\"text-align: right;\">\n",
       "      <th></th>\n",
       "      <th>places</th>\n",
       "      <th>duration</th>\n",
       "      <th>price</th>\n",
       "      <th>rating</th>\n",
       "    </tr>\n",
       "  </thead>\n",
       "  <tbody>\n",
       "    <tr>\n",
       "      <th>0</th>\n",
       "      <td>TE</td>\n",
       "      <td>4.50</td>\n",
       "      <td>15.5</td>\n",
       "      <td>5</td>\n",
       "    </tr>\n",
       "    <tr>\n",
       "      <th>1</th>\n",
       "      <td>ML</td>\n",
       "      <td>3.00</td>\n",
       "      <td>12.0</td>\n",
       "      <td>4</td>\n",
       "    </tr>\n",
       "    <tr>\n",
       "      <th>2</th>\n",
       "      <td>AT</td>\n",
       "      <td>1.00</td>\n",
       "      <td>9.5</td>\n",
       "      <td>3</td>\n",
       "    </tr>\n",
       "    <tr>\n",
       "      <th>3</th>\n",
       "      <td>MO</td>\n",
       "      <td>2.00</td>\n",
       "      <td>11.0</td>\n",
       "      <td>2</td>\n",
       "    </tr>\n",
       "    <tr>\n",
       "      <th>4</th>\n",
       "      <td>JT</td>\n",
       "      <td>1.50</td>\n",
       "      <td>0.0</td>\n",
       "      <td>3</td>\n",
       "    </tr>\n",
       "    <tr>\n",
       "      <th>5</th>\n",
       "      <td>CA</td>\n",
       "      <td>2.00</td>\n",
       "      <td>10.0</td>\n",
       "      <td>4</td>\n",
       "    </tr>\n",
       "    <tr>\n",
       "      <th>6</th>\n",
       "      <td>CP</td>\n",
       "      <td>2.50</td>\n",
       "      <td>10.0</td>\n",
       "      <td>1</td>\n",
       "    </tr>\n",
       "    <tr>\n",
       "      <th>7</th>\n",
       "      <td>CN</td>\n",
       "      <td>2.00</td>\n",
       "      <td>5.0</td>\n",
       "      <td>5</td>\n",
       "    </tr>\n",
       "    <tr>\n",
       "      <th>8</th>\n",
       "      <td>BS</td>\n",
       "      <td>2.00</td>\n",
       "      <td>8.0</td>\n",
       "      <td>4</td>\n",
       "    </tr>\n",
       "    <tr>\n",
       "      <th>9</th>\n",
       "      <td>SC</td>\n",
       "      <td>1.50</td>\n",
       "      <td>8.5</td>\n",
       "      <td>1</td>\n",
       "    </tr>\n",
       "    <tr>\n",
       "      <th>10</th>\n",
       "      <td>PC</td>\n",
       "      <td>0.75</td>\n",
       "      <td>0.0</td>\n",
       "      <td>3</td>\n",
       "    </tr>\n",
       "    <tr>\n",
       "      <th>11</th>\n",
       "      <td>TM</td>\n",
       "      <td>2.00</td>\n",
       "      <td>15.0</td>\n",
       "      <td>2</td>\n",
       "    </tr>\n",
       "    <tr>\n",
       "      <th>12</th>\n",
       "      <td>AC</td>\n",
       "      <td>1.50</td>\n",
       "      <td>0.0</td>\n",
       "      <td>5</td>\n",
       "    </tr>\n",
       "  </tbody>\n",
       "</table>\n",
       "</div>"
      ],
      "text/plain": [
       "   places  duration  price  rating\n",
       "0      TE      4.50   15.5       5\n",
       "1      ML      3.00   12.0       4\n",
       "2      AT      1.00    9.5       3\n",
       "3      MO      2.00   11.0       2\n",
       "4      JT      1.50    0.0       3\n",
       "5      CA      2.00   10.0       4\n",
       "6      CP      2.50   10.0       1\n",
       "7      CN      2.00    5.0       5\n",
       "8      BS      2.00    8.0       4\n",
       "9      SC      1.50    8.5       1\n",
       "10     PC      0.75    0.0       3\n",
       "11     TM      2.00   15.0       2\n",
       "12     AC      1.50    0.0       5"
      ]
     },
     "execution_count": 89,
     "metadata": {},
     "output_type": "execute_result"
    }
   ],
   "source": [
    "df = pd.DataFrame(data={'places': [\"TE\", \"ML\", \"AT\", \"MO\", \"JT\", \"CA\", \"CP\", \"CN\", \"BS\", \"SC\", \"PC\", \"TM\", \"AC\"],\n",
    "                        'duration': [4.5, 3, 1, 2, 1.5, 2, 2.5, 2, 2, 1.5, 0.75, 2, 1.5],\n",
    "                         'price': [15.5, 12, 9.5, 11, 0, 10, 10, 5, 8, 8.5, 0, 15, 0],\n",
    "                         'rating': [5, 4, 3, 2, 3, 4, 1, 5, 4, 1, 3, 2, 5]})\n",
    "df"
   ]
  },
  {
   "cell_type": "code",
   "execution_count": 91,
   "metadata": {},
   "outputs": [
    {
     "data": {
      "text/html": [
       "<div>\n",
       "<style scoped>\n",
       "    .dataframe tbody tr th:only-of-type {\n",
       "        vertical-align: middle;\n",
       "    }\n",
       "\n",
       "    .dataframe tbody tr th {\n",
       "        vertical-align: top;\n",
       "    }\n",
       "\n",
       "    .dataframe thead th {\n",
       "        text-align: right;\n",
       "    }\n",
       "</style>\n",
       "<table border=\"1\" class=\"dataframe\">\n",
       "  <thead>\n",
       "    <tr style=\"text-align: right;\">\n",
       "      <th></th>\n",
       "      <th>places</th>\n",
       "      <th>duration</th>\n",
       "      <th>price</th>\n",
       "      <th>rating</th>\n",
       "      <th>score_ranked_rating</th>\n",
       "      <th>score_ranked_duration</th>\n",
       "      <th>score_ranked_price</th>\n",
       "    </tr>\n",
       "  </thead>\n",
       "  <tbody>\n",
       "    <tr>\n",
       "      <th>0</th>\n",
       "      <td>TE</td>\n",
       "      <td>4.50</td>\n",
       "      <td>15.5</td>\n",
       "      <td>5</td>\n",
       "      <td>1.0</td>\n",
       "      <td>1.0</td>\n",
       "      <td>10.0</td>\n",
       "    </tr>\n",
       "    <tr>\n",
       "      <th>1</th>\n",
       "      <td>ML</td>\n",
       "      <td>3.00</td>\n",
       "      <td>12.0</td>\n",
       "      <td>4</td>\n",
       "      <td>2.0</td>\n",
       "      <td>2.0</td>\n",
       "      <td>8.0</td>\n",
       "    </tr>\n",
       "    <tr>\n",
       "      <th>2</th>\n",
       "      <td>AT</td>\n",
       "      <td>1.00</td>\n",
       "      <td>9.5</td>\n",
       "      <td>3</td>\n",
       "      <td>3.0</td>\n",
       "      <td>6.0</td>\n",
       "      <td>5.0</td>\n",
       "    </tr>\n",
       "    <tr>\n",
       "      <th>3</th>\n",
       "      <td>MO</td>\n",
       "      <td>2.00</td>\n",
       "      <td>11.0</td>\n",
       "      <td>2</td>\n",
       "      <td>4.0</td>\n",
       "      <td>4.0</td>\n",
       "      <td>7.0</td>\n",
       "    </tr>\n",
       "    <tr>\n",
       "      <th>4</th>\n",
       "      <td>JT</td>\n",
       "      <td>1.50</td>\n",
       "      <td>0.0</td>\n",
       "      <td>3</td>\n",
       "      <td>3.0</td>\n",
       "      <td>5.0</td>\n",
       "      <td>1.0</td>\n",
       "    </tr>\n",
       "    <tr>\n",
       "      <th>5</th>\n",
       "      <td>CA</td>\n",
       "      <td>2.00</td>\n",
       "      <td>10.0</td>\n",
       "      <td>4</td>\n",
       "      <td>2.0</td>\n",
       "      <td>4.0</td>\n",
       "      <td>6.0</td>\n",
       "    </tr>\n",
       "    <tr>\n",
       "      <th>6</th>\n",
       "      <td>CP</td>\n",
       "      <td>2.50</td>\n",
       "      <td>10.0</td>\n",
       "      <td>1</td>\n",
       "      <td>5.0</td>\n",
       "      <td>3.0</td>\n",
       "      <td>6.0</td>\n",
       "    </tr>\n",
       "    <tr>\n",
       "      <th>7</th>\n",
       "      <td>CN</td>\n",
       "      <td>2.00</td>\n",
       "      <td>5.0</td>\n",
       "      <td>5</td>\n",
       "      <td>1.0</td>\n",
       "      <td>4.0</td>\n",
       "      <td>2.0</td>\n",
       "    </tr>\n",
       "    <tr>\n",
       "      <th>8</th>\n",
       "      <td>BS</td>\n",
       "      <td>2.00</td>\n",
       "      <td>8.0</td>\n",
       "      <td>4</td>\n",
       "      <td>2.0</td>\n",
       "      <td>4.0</td>\n",
       "      <td>3.0</td>\n",
       "    </tr>\n",
       "    <tr>\n",
       "      <th>9</th>\n",
       "      <td>SC</td>\n",
       "      <td>1.50</td>\n",
       "      <td>8.5</td>\n",
       "      <td>1</td>\n",
       "      <td>5.0</td>\n",
       "      <td>5.0</td>\n",
       "      <td>4.0</td>\n",
       "    </tr>\n",
       "    <tr>\n",
       "      <th>10</th>\n",
       "      <td>PC</td>\n",
       "      <td>0.75</td>\n",
       "      <td>0.0</td>\n",
       "      <td>3</td>\n",
       "      <td>3.0</td>\n",
       "      <td>7.0</td>\n",
       "      <td>1.0</td>\n",
       "    </tr>\n",
       "    <tr>\n",
       "      <th>11</th>\n",
       "      <td>TM</td>\n",
       "      <td>2.00</td>\n",
       "      <td>15.0</td>\n",
       "      <td>2</td>\n",
       "      <td>4.0</td>\n",
       "      <td>4.0</td>\n",
       "      <td>9.0</td>\n",
       "    </tr>\n",
       "    <tr>\n",
       "      <th>12</th>\n",
       "      <td>AC</td>\n",
       "      <td>1.50</td>\n",
       "      <td>0.0</td>\n",
       "      <td>5</td>\n",
       "      <td>1.0</td>\n",
       "      <td>5.0</td>\n",
       "      <td>1.0</td>\n",
       "    </tr>\n",
       "  </tbody>\n",
       "</table>\n",
       "</div>"
      ],
      "text/plain": [
       "   places  duration  price  rating  score_ranked_rating  \\\n",
       "0      TE      4.50   15.5       5                  1.0   \n",
       "1      ML      3.00   12.0       4                  2.0   \n",
       "2      AT      1.00    9.5       3                  3.0   \n",
       "3      MO      2.00   11.0       2                  4.0   \n",
       "4      JT      1.50    0.0       3                  3.0   \n",
       "5      CA      2.00   10.0       4                  2.0   \n",
       "6      CP      2.50   10.0       1                  5.0   \n",
       "7      CN      2.00    5.0       5                  1.0   \n",
       "8      BS      2.00    8.0       4                  2.0   \n",
       "9      SC      1.50    8.5       1                  5.0   \n",
       "10     PC      0.75    0.0       3                  3.0   \n",
       "11     TM      2.00   15.0       2                  4.0   \n",
       "12     AC      1.50    0.0       5                  1.0   \n",
       "\n",
       "    score_ranked_duration  score_ranked_price  \n",
       "0                     1.0                10.0  \n",
       "1                     2.0                 8.0  \n",
       "2                     6.0                 5.0  \n",
       "3                     4.0                 7.0  \n",
       "4                     5.0                 1.0  \n",
       "5                     4.0                 6.0  \n",
       "6                     3.0                 6.0  \n",
       "7                     4.0                 2.0  \n",
       "8                     4.0                 3.0  \n",
       "9                     5.0                 4.0  \n",
       "10                    7.0                 1.0  \n",
       "11                    4.0                 9.0  \n",
       "12                    5.0                 1.0  "
      ]
     },
     "execution_count": 91,
     "metadata": {},
     "output_type": "execute_result"
    }
   ],
   "source": [
    "df['score_ranked_rating']=df['rating'].rank(ascending=0,method='dense')\n",
    "df['score_ranked_duration']=df['duration'].rank(ascending=0,method='dense')\n",
    "df['score_ranked_price']=df['price'].rank(ascending=1,method='dense')\n",
    "df"
   ]
  },
  {
   "cell_type": "code",
   "execution_count": 95,
   "metadata": {},
   "outputs": [
    {
     "name": "stdout",
     "output_type": "stream",
     "text": [
      "Kendall correlation coefficient on rating and duration: 0.152\n",
      "Kendall correlation coefficient on price and rating: 0.085\n",
      "Kendall correlation coefficient on price and duration: -0.606\n"
     ]
    }
   ],
   "source": [
    "from scipy.stats import kendalltau\n",
    "\n",
    "# calculate kendall's correlation\n",
    "coef, p = kendalltau(df['score_ranked_rating'], df['score_ranked_duration'])\n",
    "coef_1, p = kendalltau(df['score_ranked_price'], df['score_ranked_rating'])\n",
    "coef_2, p = kendalltau(df['score_ranked_price'], df['score_ranked_duration'])\n",
    "\n",
    "print('Kendall correlation coefficient on rating and duration: %.3f' % coef)\n",
    "print('Kendall correlation coefficient on price and rating: %.3f' % coef_1)\n",
    "print('Kendall correlation coefficient on price and duration: %.3f' % coef_2)"
   ]
  },
  {
   "cell_type": "code",
   "execution_count": null,
   "metadata": {},
   "outputs": [],
   "source": []
  }
 ],
 "metadata": {
  "kernelspec": {
   "display_name": "Python 3",
   "language": "python",
   "name": "python3"
  },
  "language_info": {
   "codemirror_mode": {
    "name": "ipython",
    "version": 3
   },
   "file_extension": ".py",
   "mimetype": "text/x-python",
   "name": "python",
   "nbconvert_exporter": "python",
   "pygments_lexer": "ipython3",
   "version": "3.8.3"
  }
 },
 "nbformat": 4,
 "nbformat_minor": 4
}
