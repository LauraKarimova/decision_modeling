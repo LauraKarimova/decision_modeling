{
 "cells": [
  {
   "cell_type": "code",
   "execution_count": 55,
   "metadata": {},
   "outputs": [],
   "source": [
    "import numpy as np\n",
    "import networkx as nx\n",
    "import matplotlib.pyplot as plt\n",
    "from numpy import genfromtxt\n",
    "import numpy as np\n",
    "import pandas as pd\n",
    "\n",
    "read_file = pd.read_excel (r'Binary_relations_1.xlsx')\n",
    "matrix = read_file.to_csv (r'Binary_relations.csv', index = None, header=True)"
   ]
  },
  {
   "cell_type": "code",
   "execution_count": 56,
   "metadata": {},
   "outputs": [
    {
     "data": {
      "image/png": "[encoded data removed]",
      "text/plain": [
       "<Figure size 432x288 with 1 Axes>"
      ]
     },
     "metadata": {},
     "output_type": "display_data"
    }
   ],
   "source": [
    "input_data = pd.read_csv('Binary_relations.csv', index_col = 0) \n",
    "G = nx.DiGraph(input_data.values)\n",
    "\n",
    "nx.draw(G, with_labels = True)"
   ]
  },
  {
   "cell_type": "code",
   "execution_count": 57,
   "metadata": {},
   "outputs": [
    {
     "data": {
      "text/plain": [
       "array([[1, 1, 1, 1, 1],\n",
       "       [1, 1, 1, 1, 1],\n",
       "       [1, 1, 1, 1, 1],\n",
       "       [1, 1, 1, 1, 1],\n",
       "       [1, 1, 1, 1, 1]], dtype=int64)"
      ]
     },
     "execution_count": 57,
     "metadata": {},
     "output_type": "execute_result"
    }
   ],
   "source": [
    "arr = input_data.to_numpy()\n",
    "arr"
   ]
  },
  {
   "cell_type": "code",
   "execution_count": 58,
   "metadata": {},
   "outputs": [
    {
     "data": {
      "text/plain": [
       "array([[1, 1, 1, 1, 1],\n",
       "       [1, 1, 1, 1, 1],\n",
       "       [1, 1, 1, 1, 1],\n",
       "       [1, 1, 1, 1, 1],\n",
       "       [1, 1, 1, 1, 1]], dtype=int64)"
      ]
     },
     "execution_count": 58,
     "metadata": {},
     "output_type": "execute_result"
    }
   ],
   "source": [
    "tran = np.transpose(arr)\n",
    "tran"
   ]
  },
  {
   "cell_type": "code",
   "execution_count": 59,
   "metadata": {},
   "outputs": [
    {
     "data": {
      "text/plain": [
       "True"
      ]
     },
     "execution_count": 59,
     "metadata": {},
     "output_type": "execute_result"
    }
   ],
   "source": [
    "def CompleteCheck(arr):\n",
    "    counter = 0\n",
    "    for i in range(len(arr)):\n",
    "        for j in range(len(arr[i])):\n",
    "            if(arr[i][j] == 1):\n",
    "                counter +=1 \n",
    "            else:\n",
    "                counter = 0\n",
    "    if counter == len(arr)*len(arr[i]):\n",
    "        return True\n",
    "        #print(\"Binary relation is complete.\")\n",
    "    else:\n",
    "        return False\n",
    "        #print(\"Binary relation is not complete.\")\n",
    "        \n",
    "CompleteCheck(arr)"
   ]
  },
  {
   "cell_type": "code",
   "execution_count": 60,
   "metadata": {},
   "outputs": [
    {
     "data": {
      "text/plain": [
       "True"
      ]
     },
     "execution_count": 60,
     "metadata": {},
     "output_type": "execute_result"
    }
   ],
   "source": [
    "def ReflexiveCheck(arr):\n",
    "    \n",
    "    if sum(arr.diagonal()) == len(arr):\n",
    "        return True\n",
    "        #print(\"Binary relation is reflexive.\")\n",
    "    else:\n",
    "        return False\n",
    "        #print(\"Binary relation is not reflexive.\")\n",
    "        \n",
    "ReflexiveCheck(arr)"
   ]
  },
  {
   "cell_type": "code",
   "execution_count": 61,
   "metadata": {},
   "outputs": [
    {
     "name": "stdout",
     "output_type": "stream",
     "text": [
      "Binary relation is asymmetric.\n"
     ]
    }
   ],
   "source": [
    "def AsymmetricCheck(arr):\n",
    "    \n",
    "    for i in range(len(arr)):\n",
    "        for j in range(len(arr[i])):\n",
    "            if (arr[i][j] == arr[j][i]):\n",
    "                return True\n",
    "    return False\n",
    "\n",
    "if (AsymmetricCheck(arr) == True):\n",
    "    print (\"Binary relation is asymmetric.\")\n",
    "else:\n",
    "    print (\"Binary relation is not asymmetric.\")"
   ]
  },
  {
   "cell_type": "code",
   "execution_count": 62,
   "metadata": {},
   "outputs": [
    {
     "name": "stdout",
     "output_type": "stream",
     "text": [
      "Binary relation is symmetric.\n"
     ]
    }
   ],
   "source": [
    "def SymmetricCheck(arr):\n",
    "    for i in range(len(arr)):\n",
    "        for j in range(len(arr[i])):\n",
    "            if (arr[i][j] != arr[j][i]):\n",
    "                return False\n",
    "    return True\n",
    "\n",
    "if (SymmetricCheck(arr) == True):\n",
    "    print (\"Binary relation is symmetric.\")\n",
    "else:\n",
    "    print (\"Binary relation is not symmetric.\")"
   ]
  },
  {
   "cell_type": "code",
   "execution_count": 63,
   "metadata": {},
   "outputs": [
    {
     "data": {
      "text/plain": [
       "False"
      ]
     },
     "execution_count": 63,
     "metadata": {},
     "output_type": "execute_result"
    }
   ],
   "source": [
    "def AntisymmetricCheck(arr):\n",
    "    tr = -np.transpose(arr)\n",
    "\n",
    "    if (np.array_equal(arr, tr)):\n",
    "        return True\n",
    "        #print (\"Binary relation is antisymmetric.\")\n",
    "    else:\n",
    "        return False\n",
    "        #print (\"Binary relation is not antisymmetric.\")\n",
    "        \n",
    "AntisymmetricCheck(arr)"
   ]
  },
  {
   "cell_type": "code",
   "execution_count": 64,
   "metadata": {},
   "outputs": [
    {
     "data": {
      "text/plain": [
       "True"
      ]
     },
     "execution_count": 64,
     "metadata": {},
     "output_type": "execute_result"
    }
   ],
   "source": [
    "def TransitiveCheck(arr):\n",
    "    for a in range(len(arr)):\n",
    "        for b in range (len(arr[a])):\n",
    "             for c in range (len(arr[b])):\n",
    "                if (arr[a][b] != 0):\n",
    "                    if ((a!=b and b!=c) and (arr[a][b] == 1 and arr[b][c] == 1 and arr[c][a] == 1)):\n",
    "                        return True\n",
    "    return False\n",
    "\n",
    "TransitiveCheck(arr)"
   ]
  },
  {
   "cell_type": "code",
   "execution_count": 65,
   "metadata": {},
   "outputs": [
    {
     "data": {
      "text/plain": [
       "True"
      ]
     },
     "execution_count": 65,
     "metadata": {},
     "output_type": "execute_result"
    }
   ],
   "source": [
    "# We also call a built-in function to check if we are getting the correct result from our function.\n",
    "def TransitiveCheck1(arr):\n",
    "    if (nx.transitivity(G) != 1):\n",
    "        return False\n",
    "    return True\n",
    "\n",
    "TransitiveCheck1(arr)"
   ]
  },
  {
   "cell_type": "code",
   "execution_count": 66,
   "metadata": {},
   "outputs": [
    {
     "data": {
      "text/plain": [
       "False"
      ]
     },
     "execution_count": 66,
     "metadata": {},
     "output_type": "execute_result"
    }
   ],
   "source": [
    "def NegativetransitiveCheck(arr):\n",
    "    for a in range(len(arr)):\n",
    "        for b in range (len(arr[a])):\n",
    "             for c in range (len(arr[a])):\n",
    "                if ((a!=b and b!=c) and (arr[a][b] == 0 and arr[b][c] == 0 and arr[c][a] == 0)):\n",
    "                    return True\n",
    "    return False\n",
    "\n",
    "NegativetransitiveCheck(arr)"
   ]
  },
  {
   "cell_type": "code",
   "execution_count": 67,
   "metadata": {},
   "outputs": [
    {
     "data": {
      "text/plain": [
       "False"
      ]
     },
     "execution_count": 67,
     "metadata": {},
     "output_type": "execute_result"
    }
   ],
   "source": [
    "def CompleteOrderCheck(arr):\n",
    "    if (CompleteCheck(arr) and AntisymmetricCheck(arr) and TransitiveCheck(arr)):\n",
    "        return True\n",
    "    return False\n",
    "\n",
    "CompleteOrderCheck(arr)"
   ]
  },
  {
   "cell_type": "code",
   "execution_count": 68,
   "metadata": {},
   "outputs": [
    {
     "data": {
      "text/plain": [
       "True"
      ]
     },
     "execution_count": 68,
     "metadata": {},
     "output_type": "execute_result"
    }
   ],
   "source": [
    "def CompletePreOrderCheck(arr):\n",
    "    if (ReflexiveCheck(arr) and TransitiveCheck(arr)):\n",
    "        return True\n",
    "    return False\n",
    "\n",
    "CompletePreOrderCheck(arr)"
   ]
  },
  {
   "cell_type": "code",
   "execution_count": 69,
   "metadata": {},
   "outputs": [
    {
     "name": "stdout",
     "output_type": "stream",
     "text": [
      "[[0. 0. 0. 0. 0.]\n",
      " [0. 0. 0. 0. 0.]\n",
      " [0. 0. 0. 0. 0.]\n",
      " [0. 0. 0. 0. 0.]\n",
      " [0. 0. 0. 0. 0.]]\n"
     ]
    }
   ],
   "source": [
    "def StrictRelation(arr):\n",
    "    t = -np.transpose(arr)\n",
    "    s = 0.5*(arr+t)\n",
    "    print(s)\n",
    "\n",
    "StrictRelation(arr)"
   ]
  },
  {
   "cell_type": "code",
   "execution_count": 70,
   "metadata": {},
   "outputs": [
    {
     "name": "stdout",
     "output_type": "stream",
     "text": [
      "[[1. 1. 1. 1. 1.]\n",
      " [1. 1. 1. 1. 1.]\n",
      " [1. 1. 1. 1. 1.]\n",
      " [1. 1. 1. 1. 1.]\n",
      " [1. 1. 1. 1. 1.]]\n"
     ]
    }
   ],
   "source": [
    "def IndifferenceRelation(arr):\n",
    "    t = -np.transpose(arr)\n",
    "    a = 0.5*(arr-t)\n",
    "    print(a)\n",
    "\n",
    "IndifferenceRelation(arr)"
   ]
  },
  {
   "cell_type": "code",
   "execution_count": 71,
   "metadata": {},
   "outputs": [
    {
     "name": "stdout",
     "output_type": "stream",
     "text": [
      "Topological Sorting:\n",
      "[0, 1, 2, 3, 4]\n"
     ]
    }
   ],
   "source": [
    "from collections import defaultdict\n",
    "\n",
    "class Graph:\n",
    "    def __init__(self,vertices):\n",
    "        self.graph = G\n",
    "        self.V = vertices\n",
    " \n",
    "    def TopologicalsortingUtil(self,v,visited,stack):\n",
    "        visited[v] = True\n",
    "        for i in self.graph[v]:\n",
    "            if visited[i] == False:\n",
    "                self.TopologicalsortingUtil(i,visited,stack)\n",
    "        stack.insert(0,v)\n",
    "        \n",
    "    def Topologicalsorting(self):\n",
    "        visited = [False]*self.V\n",
    "        stack =[]\n",
    "        for i in range(self.V):\n",
    "            if visited[i] == False:\n",
    "                self.TopologicalsortingUtil(i,visited,stack)\n",
    "        print(stack)\n",
    "\n",
    "g = Graph(G.number_of_nodes())\n",
    "\n",
    "print (\"Topological Sorting:\")\n",
    "g.Topologicalsorting()"
   ]
  },
  {
   "cell_type": "code",
   "execution_count": null,
   "metadata": {},
   "outputs": [],
   "source": []
  }
 ],
 "metadata": {
  "kernelspec": {
   "display_name": "Python 3",
   "language": "python",
   "name": "python3"
  },
  "language_info": {
   "codemirror_mode": {
    "name": "ipython",
    "version": 3
   },
   "file_extension": ".py",
   "mimetype": "text/x-python",
   "name": "python",
   "nbconvert_exporter": "python",
   "pygments_lexer": "ipython3",
   "version": "3.8.3"
  }
 },
 "nbformat": 4,
 "nbformat_minor": 5
}
