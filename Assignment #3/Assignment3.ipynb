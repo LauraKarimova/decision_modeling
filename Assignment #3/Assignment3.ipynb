{
 "cells": [
  {
   "cell_type": "markdown",
   "metadata": {},
   "source": [
    "# 1. Which movie we can suggest to Anne ?"
   ]
  },
  {
   "cell_type": "markdown",
   "metadata": {},
   "source": [
    "Build a dictionary critiques containing the movie critics and their ratings."
   ]
  },
  {
   "cell_type": "code",
   "execution_count": 283,
   "metadata": {},
   "outputs": [
    {
     "data": {
      "text/html": [
       "<div>\n",
       "<style scoped>\n",
       "    .dataframe tbody tr th:only-of-type {\n",
       "        vertical-align: middle;\n",
       "    }\n",
       "\n",
       "    .dataframe tbody tr th {\n",
       "        vertical-align: top;\n",
       "    }\n",
       "\n",
       "    .dataframe thead th {\n",
       "        text-align: right;\n",
       "    }\n",
       "</style>\n",
       "<table border=\"1\" class=\"dataframe\">\n",
       "  <thead>\n",
       "    <tr style=\"text-align: right;\">\n",
       "      <th></th>\n",
       "      <th>Lisa Rose</th>\n",
       "      <th>Gene Seymour</th>\n",
       "      <th>Michael Phillips</th>\n",
       "      <th>Claudia Puig</th>\n",
       "      <th>Mick Lasalle</th>\n",
       "      <th>Jack Matthews</th>\n",
       "      <th>Toby</th>\n",
       "      <th>Anne</th>\n",
       "    </tr>\n",
       "  </thead>\n",
       "  <tbody>\n",
       "    <tr>\n",
       "      <th>Lady</th>\n",
       "      <td>2.5</td>\n",
       "      <td>3.0</td>\n",
       "      <td>2.5</td>\n",
       "      <td>NaN</td>\n",
       "      <td>3.0</td>\n",
       "      <td>3.0</td>\n",
       "      <td>NaN</td>\n",
       "      <td>1.5</td>\n",
       "    </tr>\n",
       "    <tr>\n",
       "      <th>Snake</th>\n",
       "      <td>3.5</td>\n",
       "      <td>3.5</td>\n",
       "      <td>3.0</td>\n",
       "      <td>3.5</td>\n",
       "      <td>4.0</td>\n",
       "      <td>4.0</td>\n",
       "      <td>4.5</td>\n",
       "      <td>NaN</td>\n",
       "    </tr>\n",
       "    <tr>\n",
       "      <th>Luck</th>\n",
       "      <td>3.0</td>\n",
       "      <td>1.5</td>\n",
       "      <td>NaN</td>\n",
       "      <td>3.0</td>\n",
       "      <td>2.0</td>\n",
       "      <td>NaN</td>\n",
       "      <td>NaN</td>\n",
       "      <td>4.0</td>\n",
       "    </tr>\n",
       "    <tr>\n",
       "      <th>Superman</th>\n",
       "      <td>3.5</td>\n",
       "      <td>5.0</td>\n",
       "      <td>3.5</td>\n",
       "      <td>4.0</td>\n",
       "      <td>3.0</td>\n",
       "      <td>5.0</td>\n",
       "      <td>4.0</td>\n",
       "      <td>NaN</td>\n",
       "    </tr>\n",
       "    <tr>\n",
       "      <th>Dupree</th>\n",
       "      <td>2.5</td>\n",
       "      <td>3.5</td>\n",
       "      <td>NaN</td>\n",
       "      <td>2.5</td>\n",
       "      <td>2.0</td>\n",
       "      <td>3.5</td>\n",
       "      <td>1.0</td>\n",
       "      <td>2.0</td>\n",
       "    </tr>\n",
       "    <tr>\n",
       "      <th>Night</th>\n",
       "      <td>3.0</td>\n",
       "      <td>3.0</td>\n",
       "      <td>4.0</td>\n",
       "      <td>4.5</td>\n",
       "      <td>3.0</td>\n",
       "      <td>3.0</td>\n",
       "      <td>NaN</td>\n",
       "      <td>NaN</td>\n",
       "    </tr>\n",
       "  </tbody>\n",
       "</table>\n",
       "</div>"
      ],
      "text/plain": [
       "          Lisa Rose  Gene Seymour  Michael Phillips  Claudia Puig  \\\n",
       "Lady            2.5           3.0               2.5           NaN   \n",
       "Snake           3.5           3.5               3.0           3.5   \n",
       "Luck            3.0           1.5               NaN           3.0   \n",
       "Superman        3.5           5.0               3.5           4.0   \n",
       "Dupree          2.5           3.5               NaN           2.5   \n",
       "Night           3.0           3.0               4.0           4.5   \n",
       "\n",
       "          Mick Lasalle  Jack Matthews  Toby  Anne  \n",
       "Lady               3.0            3.0   NaN   1.5  \n",
       "Snake              4.0            4.0   4.5   NaN  \n",
       "Luck               2.0            NaN   NaN   4.0  \n",
       "Superman           3.0            5.0   4.0   NaN  \n",
       "Dupree             2.0            3.5   1.0   2.0  \n",
       "Night              3.0            3.0   NaN   NaN  "
      ]
     },
     "execution_count": 283,
     "metadata": {},
     "output_type": "execute_result"
    }
   ],
   "source": [
    "import pandas as pd\n",
    "import numpy as np\n",
    "import math\n",
    "from math import sqrt\n",
    "import random\n",
    "\n",
    "critiques = {}\n",
    "\n",
    "critiques['Lisa Rose'] = {'Lady': 2.5, 'Snake': 3.5, 'Luck': 3.0, 'Superman': 3.5, 'Dupree': 2.5, 'Night': 3.0}\n",
    "critiques['Gene Seymour'] = {'Lady': 3.0, 'Snake':3.5, 'Luck': 1.5, 'Superman': 5.0, 'Dupree': 3.5, 'Night': 3.0}\n",
    "critiques['Michael Phillips'] = {'Lady': 2.5, 'Snake':3.0, 'Luck': np.NaN, 'Superman': 3.5, 'Dupree': np.NaN, 'Night': 4.0}\n",
    "critiques['Claudia Puig'] = {'Lady': np.NaN, 'Snake':3.5, 'Luck': 3.0, 'Superman': 4.0, 'Dupree': 2.5, 'Night': 4.5}\n",
    "critiques['Mick Lasalle'] = {'Lady': 3.0, 'Snake':4.0, 'Luck': 2.0, 'Superman': 3.0, 'Dupree': 2.0, 'Night': 3.0}\n",
    "critiques['Jack Matthews'] = {'Lady': 3.0, 'Snake':4.0, 'Luck': np.NaN, 'Superman': 5.0, 'Dupree': 3.5, 'Night': 3.0}\n",
    "critiques['Toby'] = {'Lady': np.NaN, 'Snake': 4.5, 'Luck': np.NaN, 'Superman': 4.0, 'Dupree': 1.0, 'Night': np.NaN}\n",
    "critiques['Anne'] = {'Lady': 1.5, 'Snake':np.NaN, 'Luck': 4.0, 'Superman': np.NaN, 'Dupree': 2.0, 'Night': np.NaN}\n",
    "\n",
    "critiques1 = pd.DataFrame(critiques)\n",
    "movies = (critiques1.index)\n",
    "\n",
    "critiques1"
   ]
  },
  {
   "cell_type": "markdown",
   "metadata": {},
   "source": [
    "After collecting data about the things people like, we need a way to determine how similar people are in their tastes.\n",
    "\n",
    "(a) To compute a simple similarity score, we use the Manhattan distance or an Euclidean distance."
   ]
  },
  {
   "cell_type": "code",
   "execution_count": 284,
   "metadata": {},
   "outputs": [
    {
     "data": {
      "text/plain": [
       "4.5"
      ]
     },
     "execution_count": 284,
     "metadata": {},
     "output_type": "execute_result"
    }
   ],
   "source": [
    "def sim_distanceManhattan(person1, person2):\n",
    "    distance = 0\n",
    "    for x1, x2 in zip(person1, person2):\n",
    "        if np.isnan(x1) or np.isnan(x2):\n",
    "            pass\n",
    "        else:\n",
    "            difference = x2 - x1\n",
    "            absolute_difference = abs(difference)\n",
    "            distance += absolute_difference\n",
    "\n",
    "    return distance\n",
    "            \n",
    "sim_distanceManhattan(critiques1['Lisa Rose'], critiques1['Gene Seymour'])"
   ]
  },
  {
   "cell_type": "code",
   "execution_count": 285,
   "metadata": {},
   "outputs": [
    {
     "data": {
      "text/plain": [
       "2.3979157616563596"
      ]
     },
     "execution_count": 285,
     "metadata": {},
     "output_type": "execute_result"
    }
   ],
   "source": [
    "def sim_distanceEuclidienne(person1, person2):\n",
    "    \n",
    "    difference = 0\n",
    "    sum_of_squares = 0\n",
    "    for x1, x2 in zip(person1, person2):\n",
    "        if np.isnan(x1) or np.isnan(x2):\n",
    "            pass\n",
    "        else:\n",
    "            difference = (x2 - x1) ** 2\n",
    "            sum_of_squares += difference\n",
    "\n",
    "    return sum_of_squares ** 0.5\n",
    "            \n",
    "sim_distanceEuclidienne(critiques1['Lisa Rose'], critiques1['Gene Seymour'])"
   ]
  },
  {
   "cell_type": "markdown",
   "metadata": {},
   "source": [
    "Build a function computeNearestNeighbor(nouveauCritique, critiques), returning a sorted list of critics close to nouveauCritique."
   ]
  },
  {
   "cell_type": "code",
   "execution_count": 286,
   "metadata": {},
   "outputs": [
    {
     "data": {
      "text/plain": [
       "[(1.0, 'Michael Phillips'),\n",
       " (1.0, 'Toby'),\n",
       " (1.5, 'Claudia Puig'),\n",
       " (2.5, 'Lisa Rose'),\n",
       " (3.0, 'Jack Matthews'),\n",
       " (3.5, 'Mick Lasalle'),\n",
       " (5.5, 'Gene Seymour')]"
      ]
     },
     "execution_count": 286,
     "metadata": {},
     "output_type": "execute_result"
    }
   ],
   "source": [
    "def computeNearestNeighbor(nouveauCritique, critiques1):\n",
    "    \n",
    "    distances=[]\n",
    "    \n",
    "    for critique in critiques1:\n",
    "        if critique != nouveauCritique:\n",
    "            distance = sim_distanceManhattan(critiques1[critique], critiques1[nouveauCritique])\n",
    "            distances.append((distance, critique))\n",
    "    \n",
    "    distances.sort()\n",
    "    return distances\n",
    "\n",
    "computeNearestNeighbor('Anne', critiques1)"
   ]
  },
  {
   "cell_type": "markdown",
   "metadata": {},
   "source": [
    "Build a function recommendNearestNeighbor returning one nearest critic to nouveauCritique."
   ]
  },
  {
   "cell_type": "code",
   "execution_count": 287,
   "metadata": {},
   "outputs": [
    {
     "name": "stdout",
     "output_type": "stream",
     "text": [
      "Nearest neighbor is Michael Phillips.\n"
     ]
    },
    {
     "data": {
      "text/plain": [
       "[('Snake', 3.0), ('Superman', 3.5), ('Night', 4.0)]"
      ]
     },
     "execution_count": 287,
     "metadata": {},
     "output_type": "execute_result"
    }
   ],
   "source": [
    "def recommendNearestNeighbor(nouveauCritique, Critiques, array):\n",
    "    \n",
    "    recommend_movies = []\n",
    "    NearestNeighbor = computeNearestNeighbor(nouveauCritique, Critiques)[0][1]\n",
    "    print(\"Nearest neighbor is {}.\".format(NearestNeighbor))\n",
    "    \n",
    "    for i in range(0, len(Critiques[nouveauCritique])):\n",
    "        if np.isnan(Critiques[nouveauCritique][i]) and not np.isnan(Critiques[NearestNeighbor][i]):\n",
    "            recommend_movies.append((array[i], Critiques[NearestNeighbor][i]))\n",
    "    return recommend_movies\n",
    "    \n",
    "recommendNearestNeighbor('Anne', critiques1, movies)"
   ]
  },
  {
   "cell_type": "markdown",
   "metadata": {},
   "source": [
    "Build a function returning a list of movies that given nouveauCritique didn't see."
   ]
  },
  {
   "cell_type": "code",
   "execution_count": 288,
   "metadata": {},
   "outputs": [
    {
     "data": {
      "text/plain": [
       "['Snake', 'Superman', 'Night']"
      ]
     },
     "execution_count": 288,
     "metadata": {},
     "output_type": "execute_result"
    }
   ],
   "source": [
    "def not_seen_by_Anne(nouveauCritique, Critiques, array):\n",
    "    \n",
    "    not_seen_array = []\n",
    "    for i in range(0, len(Critiques[nouveauCritique])):\n",
    "        if math.isnan(Critiques[nouveauCritique][i]):\n",
    "            not_seen_array.append(array[i])\n",
    "            \n",
    "    return (not_seen_array)\n",
    "\n",
    "not_seen_by_Anne('Anne', critiques1, movies)"
   ]
  },
  {
   "cell_type": "markdown",
   "metadata": {},
   "source": [
    "Build a function calculating global score by given movie name."
   ]
  },
  {
   "cell_type": "code",
   "execution_count": 289,
   "metadata": {},
   "outputs": [],
   "source": [
    "def weighted_score(nouveauCritique, movieName, critiques):\n",
    "    \n",
    "    #print(critiques1.iloc[[critiques1.index.get_loc(movieName)]]) #getting row by given movie name\n",
    "    \n",
    "    total_a_m = 0\n",
    "    s_a_m = 0\n",
    "    global_score_a_m = 0\n",
    "    numerator_m = 0\n",
    "    d_m = 0\n",
    "    \n",
    "    #for i in critiques1.columns.values:\n",
    "        #print(critiques1[i][critiques1.index.get_loc(movieName)]) #getting value of each critique to given movie name\n",
    "    \n",
    "    for critique_index in range(len(critiques.columns.values)):\n",
    "        numerator_m = critiques[critiques.columns.values[critique_index]][critiques.index.get_loc(movieName)]\n",
    "        if math.isnan(numerator_m):\n",
    "            break\n",
    "        d_m = sim_distanceManhattan(critiques[nouveauCritique],critiques[critiques.columns.values[critique_index]])\n",
    "        total_a_m += numerator_m / (1 + d_m)\n",
    "        s_a_m += 1 / (1 + d_m)\n",
    "        global_score_a_m = total_a_m / s_a_m\n",
    "\n",
    "    total_a_e = 0\n",
    "    s_a_e = 0\n",
    "    global_score_a_e = 0\n",
    "    numerator_e = 0\n",
    "    d_e = 0\n",
    "    \n",
    "    for critique_index in range(len(critiques.columns.values)):\n",
    "        numerator_e = critiques[critiques.columns.values[critique_index]][critiques.index.get_loc(movieName)]\n",
    "        if math.isnan(numerator_e):\n",
    "            break\n",
    "        d_e = sim_distanceEuclidienne(critiques[nouveauCritique], critiques[critiques.columns.values[critique_index]])\n",
    "        total_a_e += numerator_e / (1 + d_e)\n",
    "        s_a_e += 1 / (1 + d_e)\n",
    "        global_score_a_e = total_a_e / s_a_e\n",
    "        \n",
    "#     print(\"total_a_m = {}\".format(total_a_m))\n",
    "#     print(\"s_a_m = {}\".format(s_a_m))\n",
    "#     print(\"global_score_a_m = {}\".format(global_score_a_m))\n",
    "#     print()\n",
    "#     print(\"total_a_e = {}\".format(total_a_e))\n",
    "#     print(\"s_a_e = {}\".format(s_a_e))\n",
    "#     print(\"global_score_a_e = {}\".format(global_score_a_e))\n",
    "    return global_score_a_m, global_score_a_e"
   ]
  },
  {
   "cell_type": "markdown",
   "metadata": {},
   "source": [
    "Build the function Bestrecommend suggesting to Anne a recommendation between the three movies “Snakes”, “Superman” and “Night” based on global score."
   ]
  },
  {
   "cell_type": "code",
   "execution_count": 290,
   "metadata": {},
   "outputs": [
    {
     "name": "stdout",
     "output_type": "stream",
     "text": [
      "Best recommended movie for Anne with Manhattan distance - Superman\n"
     ]
    }
   ],
   "source": [
    "def Bestrecommend_manhattan(person, critiques, array):\n",
    "    \n",
    "    score_manhattan = {}\n",
    "    for i in range(len(not_seen_by_Anne(person, critiques, array))):\n",
    "        score_manhattan[not_seen_by_Anne(person, critiques, array)[i]] = weighted_score(person, not_seen_by_Anne(person, critiques, array)[i], critiques)[0]\n",
    "        \n",
    "    return max(score_manhattan, key=score_manhattan.get)\n",
    "\n",
    "print(\"Best recommended movie for {} with Manhattan distance - {}\".format('Anne', Bestrecommend_manhattan('Anne', critiques1, movies)))"
   ]
  },
  {
   "cell_type": "code",
   "execution_count": 291,
   "metadata": {},
   "outputs": [
    {
     "name": "stdout",
     "output_type": "stream",
     "text": [
      "Best recommended movie for Anne with Euclidienne distance - Superman\n"
     ]
    }
   ],
   "source": [
    "def Bestrecommend_euclidienne(person, critiques, array):\n",
    "    \n",
    "    score_euclidienne = {}\n",
    "    for i in range(len(not_seen_by_Anne(person, critiques, array))):\n",
    "        score_euclidienne[not_seen_by_Anne(person, critiques, array)[i]] = weighted_score(person, not_seen_by_Anne(person, critiques, array)[i], critiques)[1]\n",
    "    \n",
    "    return max(score_euclidienne, key=score_euclidienne.get)\n",
    "\n",
    "print(\"Best recommended movie for {} with Euclidienne distance - {}\".format('Anne', Bestrecommend_euclidienne('Anne', critiques1, movies)))"
   ]
  },
  {
   "cell_type": "code",
   "execution_count": 292,
   "metadata": {},
   "outputs": [],
   "source": [
    "def weighted_score_with_exp(nouveauCritique, movieName, critiques):\n",
    "    \n",
    "    #print(critiques1.iloc[[critiques1.index.get_loc(movieName)]]) #getting row by given movie name\n",
    "    \n",
    "    total_a_m = 0\n",
    "    s_a_m = 0\n",
    "    global_score_a_m = 0\n",
    "    numerator_m = 0\n",
    "    d_m = 0\n",
    "    \n",
    "    #for i in critiques1.columns.values:\n",
    "        #print(critiques1[i][critiques1.index.get_loc(movieName)]) #getting value of each critique to given movie name\n",
    "    \n",
    "    for critique_index in range(len(critiques.columns.values)):\n",
    "        numerator_m = critiques[critiques.columns.values[critique_index]][critiques.index.get_loc(movieName)]\n",
    "        if math.isnan(numerator_m):\n",
    "            break\n",
    "        d_m = sim_distanceManhattan(critiques[nouveauCritique],critiques[critiques.columns.values[critique_index]])\n",
    "        total_a_m += numerator_m / (1 + d_m)\n",
    "        s_a_m += math.exp( -d_m )\n",
    "        global_score_a_m = total_a_m / s_a_m\n",
    "\n",
    "    total_a_e = 0\n",
    "    s_a_e = 0\n",
    "    global_score_a_e = 0\n",
    "    numerator_e = 0\n",
    "    d_e = 0\n",
    "    \n",
    "    for critique_index in range(len(critiques.columns.values)):\n",
    "        numerator_e = critiques[critiques.columns.values[critique_index]][critiques.index.get_loc(movieName)]\n",
    "        if math.isnan(numerator_e):\n",
    "            break\n",
    "        d_e = sim_distanceEuclidienne(critiques[nouveauCritique],critiques[critiques.columns.values[critique_index]])\n",
    "        total_a_e += numerator_e / (1 + d_e)\n",
    "        s_a_e += math.exp( -d_m )\n",
    "        global_score_a_e = total_a_e / s_a_e\n",
    "        \n",
    "    return global_score_a_m, global_score_a_e"
   ]
  },
  {
   "cell_type": "code",
   "execution_count": 293,
   "metadata": {},
   "outputs": [
    {
     "name": "stdout",
     "output_type": "stream",
     "text": [
      "Best recommended movie for Anne with Manhattan distance - Night\n"
     ]
    }
   ],
   "source": [
    "def BestrecommendwithExp_manhattan(person, critiques, array):\n",
    "    \n",
    "    score_manhattan_with_exp = {}\n",
    "    for i in range(len(not_seen_by_Anne(person, critiques, array))):\n",
    "        score_manhattan_with_exp[not_seen_by_Anne(person, critiques, array)[i]] = weighted_score_with_exp(person, not_seen_by_Anne(person, critiques, array)[i], critiques)[0]\n",
    "        \n",
    "    return max(score_manhattan_with_exp, key=score_manhattan_with_exp.get)\n",
    "    \n",
    "print(\"Best recommended movie for {} with Manhattan distance - {}\".format('Anne', BestrecommendwithExp_manhattan('Anne', critiques1, movies)))"
   ]
  },
  {
   "cell_type": "code",
   "execution_count": 294,
   "metadata": {},
   "outputs": [
    {
     "name": "stdout",
     "output_type": "stream",
     "text": [
      "Best recommended movie for Anne with Euclidienne distance - Night\n"
     ]
    }
   ],
   "source": [
    "def BestrecommendwithExp_euclidienne(person, critiques, array):\n",
    "    \n",
    "    score_euclidienne_with_exp = {}\n",
    "    for i in range(len(not_seen_by_Anne(person, critiques, array))):\n",
    "        score_euclidienne_with_exp[not_seen_by_Anne(person, critiques, array)[i]] = weighted_score_with_exp(person, not_seen_by_Anne(person, critiques, array)[i], critiques)[1]\n",
    "    \n",
    "    return max(score_euclidienne_with_exp, key=score_euclidienne_with_exp.get)\n",
    "\n",
    "print(\"Best recommended movie for {} with Euclidienne distance - {}\".format('Anne', BestrecommendwithExp_euclidienne('Anne', critiques1, movies)))"
   ]
  },
  {
   "cell_type": "markdown",
   "metadata": {},
   "source": [
    "Build a function calculating pearson correlation coefficient between two persons."
   ]
  },
  {
   "cell_type": "code",
   "execution_count": 295,
   "metadata": {},
   "outputs": [],
   "source": [
    "def pearson(person1, person2):\n",
    "    \n",
    "    sum_xy = 0\n",
    "    sum_x = 0\n",
    "    sum_y = 0\n",
    "    sum_x2 = 0\n",
    "    sum_y2 = 0\n",
    "    n = 0\n",
    "    for key in person1:\n",
    "        if key in person2:\n",
    "            n += 1\n",
    "            x = person1[key]\n",
    "            y = person2[key]\n",
    "            if math.isnan(x) or math.isnan(y):\n",
    "                x = 0\n",
    "                y = 0\n",
    "            sum_xy += x*y\n",
    "            sum_x += x\n",
    "            sum_y += y\n",
    "            sum_x2 += x**2\n",
    "            sum_y2 += y**2\n",
    "        denominator = sqrt(sum_x2 - (sum_x ** 2) / n) * sqrt(sum_y2 - (sum_y ** 2) / n)\n",
    "    if denominator == 0:\n",
    "        return 0\n",
    "    else:\n",
    "        return (sum_xy - (sum_x * sum_y) /n ) / denominator"
   ]
  },
  {
   "cell_type": "markdown",
   "metadata": {},
   "source": [
    "Build a function suggesting to Anne, by using the Pearson correlation coefficient."
   ]
  },
  {
   "cell_type": "code",
   "execution_count": 296,
   "metadata": {},
   "outputs": [
    {
     "name": "stdout",
     "output_type": "stream",
     "text": [
      "Best recommended movie for Anne using Pearson correlation coefficient - Night\n"
     ]
    }
   ],
   "source": [
    "def PearsonRecommend(person, critiques, critiques1, array):\n",
    "    \n",
    "    pearson_recommend_dict = {}\n",
    "    pearson_recommend_dict_best_movie = {}\n",
    "    \n",
    "    for i in critiques1.columns.values:\n",
    "        if i != person:\n",
    "            pearson_recommend_dict[i] = pearson(critiques[person], critiques[i])\n",
    "        \n",
    "#     print(\"Nearest neighbor by Pearson correlation coefficient - {}\".format(max(pearson_recommend_dict, key=pearson_recommend_dict.get)))\n",
    "#     print()\n",
    "\n",
    "    pearson_recommend_dict_best = critiques[max(pearson_recommend_dict, key=pearson_recommend_dict.get)]\n",
    "    \n",
    "    for i in not_seen_by_Anne(person, critiques1, array):\n",
    "        for j in pearson_recommend_dict_best:\n",
    "            if i == j:\n",
    "                pearson_recommend_dict_best_movie[i] = pearson_recommend_dict_best[i]\n",
    "    \n",
    "#     print(pearson_recommend_dict_best_movie)\n",
    "#     print(\"Best recommended movie from {} - {}\".format(max(pearson_recommend_dict, key=pearson_recommend_dict.get), max(pearson_recommend_dict_best_movie, key=pearson_recommend_dict_best_movie.get)))\n",
    "    return max(pearson_recommend_dict_best_movie, key=pearson_recommend_dict_best_movie.get)\n",
    "\n",
    "print(\"Best recommended movie for {} using Pearson correlation coefficient - {}\".format('Anne', PearsonRecommend('Anne', critiques, critiques1, movies)))"
   ]
  },
  {
   "cell_type": "markdown",
   "metadata": {},
   "source": [
    "Build a function calculating cosine correlation coefficient between two persons."
   ]
  },
  {
   "cell_type": "code",
   "execution_count": 297,
   "metadata": {},
   "outputs": [],
   "source": [
    "def Cosine(person1, person2):\n",
    "    \n",
    "    sum_xy = 0\n",
    "    sum_x = 0\n",
    "    sum_y = 0\n",
    "    \n",
    "    for key in person1:\n",
    "        if key in person2:\n",
    "            x = person1[key]\n",
    "            y = person2[key]\n",
    "            \n",
    "            if math.isnan(x) or math.isnan(y):\n",
    "                x = 0\n",
    "                y = 0\n",
    "                \n",
    "            sum_xy += x * y\n",
    "            sum_x += x ** 2\n",
    "            sum_y += y ** 2\n",
    "            \n",
    "        denominator = (sqrt(sum_x) * sqrt(sum_y))\n",
    "    \n",
    "    if denominator == 0:\n",
    "        return 0\n",
    "    else:\n",
    "        return sum_xy / denominator"
   ]
  },
  {
   "cell_type": "markdown",
   "metadata": {},
   "source": [
    "Build a function suggesting to Anne, by using the Cosine correlation coefficient."
   ]
  },
  {
   "cell_type": "code",
   "execution_count": 298,
   "metadata": {},
   "outputs": [
    {
     "name": "stdout",
     "output_type": "stream",
     "text": [
      "Best recommended movie for Anne using Cosine correlation coefficient - Night\n"
     ]
    }
   ],
   "source": [
    "def CosineRecommend(person, critiques, critiques1, array):\n",
    "    \n",
    "    cosine_recommend_dict = {}\n",
    "    cosine_recommend_dict_best_movie = {}\n",
    "\n",
    "    for i in critiques1.columns.values:\n",
    "        if i != person:\n",
    "            cosine_recommend_dict[i] = Cosine(critiques[person], critiques[i])\n",
    "        \n",
    "#     print(\"Nearest neighbor by Cosine correlation coefficient - {}\".format(max(cosine_recommend_dict, key=cosine_recommend_dict.get)))\n",
    "#     print()\n",
    "\n",
    "    cosine_recommend_dict_best = critiques[max(cosine_recommend_dict, key=cosine_recommend_dict.get)]\n",
    "    \n",
    "    for i in not_seen_by_Anne(person, critiques1, array):\n",
    "        for j in cosine_recommend_dict_best:\n",
    "            if i == j:\n",
    "                cosine_recommend_dict_best_movie[i] = cosine_recommend_dict_best[i]\n",
    "    \n",
    "#     print(cosine_recommend_dict_best_movie)\n",
    "#     print(\"Best recommended movie from {} - {}\".format(max(cosine_recommend_dict, key=cosine_recommend_dict.get), max(cosine_recommend_dict_best_movie, key=cosine_recommend_dict_best_movie.get)))\n",
    "    return max(cosine_recommend_dict_best_movie, key=cosine_recommend_dict_best_movie.get)\n",
    "\n",
    "print(\"Best recommended movie for {} using Cosine correlation coefficient - {}\".format('Anne', CosineRecommend('Anne', critiques, critiques1, movies)))"
   ]
  },
  {
   "cell_type": "markdown",
   "metadata": {},
   "source": [
    "# 2. Music critics"
   ]
  },
  {
   "cell_type": "markdown",
   "metadata": {},
   "source": [
    "Build a dictionary critiques containing the music critics and their ratings."
   ]
  },
  {
   "cell_type": "code",
   "execution_count": 305,
   "metadata": {},
   "outputs": [
    {
     "data": {
      "text/html": [
       "<div>\n",
       "<style scoped>\n",
       "    .dataframe tbody tr th:only-of-type {\n",
       "        vertical-align: middle;\n",
       "    }\n",
       "\n",
       "    .dataframe tbody tr th {\n",
       "        vertical-align: top;\n",
       "    }\n",
       "\n",
       "    .dataframe thead th {\n",
       "        text-align: right;\n",
       "    }\n",
       "</style>\n",
       "<table border=\"1\" class=\"dataframe\">\n",
       "  <thead>\n",
       "    <tr style=\"text-align: right;\">\n",
       "      <th></th>\n",
       "      <th>Angelica</th>\n",
       "      <th>Bill</th>\n",
       "      <th>Chan</th>\n",
       "      <th>Dan</th>\n",
       "      <th>Hailey</th>\n",
       "      <th>Jordyn</th>\n",
       "      <th>Sam</th>\n",
       "      <th>Veronica</th>\n",
       "    </tr>\n",
       "  </thead>\n",
       "  <tbody>\n",
       "    <tr>\n",
       "      <th>Blues Traveler</th>\n",
       "      <td>3.5</td>\n",
       "      <td>2.0</td>\n",
       "      <td>5.0</td>\n",
       "      <td>3.0</td>\n",
       "      <td>NaN</td>\n",
       "      <td>NaN</td>\n",
       "      <td>5.2</td>\n",
       "      <td>3.0</td>\n",
       "    </tr>\n",
       "    <tr>\n",
       "      <th>Broken Bells</th>\n",
       "      <td>2.0</td>\n",
       "      <td>3.5</td>\n",
       "      <td>1.0</td>\n",
       "      <td>4.0</td>\n",
       "      <td>4.0</td>\n",
       "      <td>4.5</td>\n",
       "      <td>2.0</td>\n",
       "      <td>NaN</td>\n",
       "    </tr>\n",
       "    <tr>\n",
       "      <th>Deadmau5</th>\n",
       "      <td>NaN</td>\n",
       "      <td>4.0</td>\n",
       "      <td>1.0</td>\n",
       "      <td>4.5</td>\n",
       "      <td>1.0</td>\n",
       "      <td>4.0</td>\n",
       "      <td>NaN</td>\n",
       "      <td>NaN</td>\n",
       "    </tr>\n",
       "    <tr>\n",
       "      <th>Norah Jones</th>\n",
       "      <td>4.5</td>\n",
       "      <td>NaN</td>\n",
       "      <td>3.0</td>\n",
       "      <td>NaN</td>\n",
       "      <td>4.0</td>\n",
       "      <td>5.0</td>\n",
       "      <td>3.0</td>\n",
       "      <td>5.0</td>\n",
       "    </tr>\n",
       "    <tr>\n",
       "      <th>Phoenix</th>\n",
       "      <td>5.0</td>\n",
       "      <td>2.0</td>\n",
       "      <td>5.0</td>\n",
       "      <td>3.0</td>\n",
       "      <td>NaN</td>\n",
       "      <td>5.0</td>\n",
       "      <td>5.0</td>\n",
       "      <td>4.0</td>\n",
       "    </tr>\n",
       "    <tr>\n",
       "      <th>Slightly Stupid</th>\n",
       "      <td>1.5</td>\n",
       "      <td>3.5</td>\n",
       "      <td>1.0</td>\n",
       "      <td>4.5</td>\n",
       "      <td>NaN</td>\n",
       "      <td>4.5</td>\n",
       "      <td>4.0</td>\n",
       "      <td>2.5</td>\n",
       "    </tr>\n",
       "    <tr>\n",
       "      <th>The Strokes</th>\n",
       "      <td>2.5</td>\n",
       "      <td>NaN</td>\n",
       "      <td>NaN</td>\n",
       "      <td>4.0</td>\n",
       "      <td>4.0</td>\n",
       "      <td>4.0</td>\n",
       "      <td>5.0</td>\n",
       "      <td>3.0</td>\n",
       "    </tr>\n",
       "    <tr>\n",
       "      <th>Vampire Weekend</th>\n",
       "      <td>2.0</td>\n",
       "      <td>3.0</td>\n",
       "      <td>NaN</td>\n",
       "      <td>2.0</td>\n",
       "      <td>1.0</td>\n",
       "      <td>4.0</td>\n",
       "      <td>NaN</td>\n",
       "      <td>NaN</td>\n",
       "    </tr>\n",
       "  </tbody>\n",
       "</table>\n",
       "</div>"
      ],
      "text/plain": [
       "                 Angelica  Bill  Chan  Dan  Hailey  Jordyn  Sam  Veronica\n",
       "Blues Traveler        3.5   2.0   5.0  3.0     NaN     NaN  5.2       3.0\n",
       "Broken Bells          2.0   3.5   1.0  4.0     4.0     4.5  2.0       NaN\n",
       "Deadmau5              NaN   4.0   1.0  4.5     1.0     4.0  NaN       NaN\n",
       "Norah Jones           4.5   NaN   3.0  NaN     4.0     5.0  3.0       5.0\n",
       "Phoenix               5.0   2.0   5.0  3.0     NaN     5.0  5.0       4.0\n",
       "Slightly Stupid       1.5   3.5   1.0  4.5     NaN     4.5  4.0       2.5\n",
       "The Strokes           2.5   NaN   NaN  4.0     4.0     4.0  5.0       3.0\n",
       "Vampire Weekend       2.0   3.0   NaN  2.0     1.0     4.0  NaN       NaN"
      ]
     },
     "execution_count": 305,
     "metadata": {},
     "output_type": "execute_result"
    }
   ],
   "source": [
    "music_critiques = {}\n",
    "\n",
    "music_critiques['Angelica'] = {'Blues Traveler': 3.5, 'Broken Bells': 2.0, 'Deadmau5': np.NaN, 'Norah Jones': 4.5, 'Phoenix': 5.0, 'Slightly Stupid': 1.5, 'The Strokes': 2.5, 'Vampire Weekend': 2.0}\n",
    "music_critiques['Bill'] = {'Blues Traveler': 2.0, 'Broken Bells': 3.5, 'Deadmau5': 4.0, 'Norah Jones': np.NaN, 'Phoenix': 2.0, 'Slightly Stupid': 3.5, 'The Strokes': np.NaN, 'Vampire Weekend': 3.0}\n",
    "music_critiques['Chan'] = {'Blues Traveler': 5.0, 'Broken Bells': 1.0, 'Deadmau5': 1.0, 'Norah Jones': 3.0, 'Phoenix': 5.0, 'Slightly Stupid': 1.0, 'The Strokes': np.NaN, 'Vampire Weekend': np.NaN}\n",
    "music_critiques['Dan'] = {'Blues Traveler': 3.0, 'Broken Bells': 4.0, 'Deadmau5': 4.5, 'Norah Jones': np.NaN, 'Phoenix': 3.0, 'Slightly Stupid': 4.5, 'The Strokes': 4.0, 'Vampire Weekend': 2.0}\n",
    "music_critiques['Hailey'] = {'Blues Traveler': np.NaN, 'Broken Bells': 4.0, 'Deadmau5': 1.0, 'Norah Jones': 4.0, 'Phoenix': np.NaN, 'Slightly Stupid': np.NaN, 'The Strokes': 4.0, 'Vampire Weekend': 1.0}\n",
    "music_critiques['Jordyn'] = {'Blues Traveler': np.NaN, 'Broken Bells': 4.5, 'Deadmau5': 4.0, 'Norah Jones': 5.0, 'Phoenix': 5.0, 'Slightly Stupid': 4.5, 'The Strokes': 4.0, 'Vampire Weekend': 4.0}\n",
    "music_critiques['Sam'] = {'Blues Traveler': 5.2, 'Broken Bells': 2.0, 'Deadmau5': np.NaN, 'Norah Jones': 3.0, 'Phoenix': 5.0, 'Slightly Stupid': 4.0, 'The Strokes': 5.0, 'Vampire Weekend': np.NaN}\n",
    "music_critiques['Veronica'] = {'Blues Traveler': 3.0, 'Broken Bells': np.NaN, 'Deadmau5': np.NaN, 'Norah Jones': 5.0, 'Phoenix': 4.0, 'Slightly Stupid': 2.5, 'The Strokes': 3.0, 'Vampire Weekend': np.NaN}\n",
    "\n",
    "music_critiques1 = pd.DataFrame(music_critiques)\n",
    "songs = (music_critiques1.index)\n",
    "\n",
    "music_critiques1"
   ]
  },
  {
   "cell_type": "markdown",
   "metadata": {},
   "source": [
    "# Which songs you can recommend to Veronica ?"
   ]
  },
  {
   "cell_type": "markdown",
   "metadata": {},
   "source": [
    "To compute a simple similarity score, we use the Manhattan distance."
   ]
  },
  {
   "cell_type": "code",
   "execution_count": 306,
   "metadata": {},
   "outputs": [
    {
     "name": "stdout",
     "output_type": "stream",
     "text": [
      "Similarity score by Manhattan distance\n",
      "\n",
      "The similarity score between Veronica and Angelica = 3.5\n",
      "The similarity score between Veronica and Bill = 4.0\n",
      "The similarity score between Veronica and Chan = 6.5\n",
      "The similarity score between Veronica and Dan = 4.0\n",
      "The similarity score between Veronica and Hailey = 2.0\n",
      "The similarity score between Veronica and Jordyn = 4.0\n",
      "The similarity score between Veronica and Sam = 8.7\n"
     ]
    }
   ],
   "source": [
    "print(\"Similarity score by Manhattan distance\")\n",
    "print()\n",
    "\n",
    "for i in music_critiques1.columns.values:\n",
    "    for j in music_critiques1.columns.values:\n",
    "        if i != j and i == 'Veronica':\n",
    "            print(\"The similarity score between {} and {} = {}\".format(i, j, sim_distanceManhattan(music_critiques1[i], music_critiques1[j])))"
   ]
  },
  {
   "cell_type": "markdown",
   "metadata": {},
   "source": [
    "To compute a simple similarity score, we use an Euclidean distance."
   ]
  },
  {
   "cell_type": "code",
   "execution_count": 307,
   "metadata": {},
   "outputs": [
    {
     "name": "stdout",
     "output_type": "stream",
     "text": [
      "Similarity score by Euclidean distance\n",
      "\n",
      "The similarity score between Veronica and Angelica = 1.6583123951777\n",
      "The similarity score between Veronica and Bill = 2.449489742783178\n",
      "The similarity score between Veronica and Chan = 3.3541019662496847\n",
      "The similarity score between Veronica and Dan = 2.449489742783178\n",
      "The similarity score between Veronica and Hailey = 1.4142135623730951\n",
      "The similarity score between Veronica and Jordyn = 2.449489742783178\n",
      "The similarity score between Veronica and Sam = 4.011234224026316\n"
     ]
    }
   ],
   "source": [
    "print(\"Similarity score by Euclidean distance\")\n",
    "print()\n",
    "\n",
    "for i in music_critiques1.columns.values:\n",
    "    for j in music_critiques1.columns.values:\n",
    "        if i != j and i == 'Veronica':\n",
    "            print(\"The similarity score between {} and {} = {}\".format(i, j, sim_distanceEuclidienne(music_critiques1[i], music_critiques1[j])))"
   ]
  },
  {
   "cell_type": "markdown",
   "metadata": {},
   "source": [
    "Returning a sorted list of critics close to Veronica."
   ]
  },
  {
   "cell_type": "code",
   "execution_count": 308,
   "metadata": {},
   "outputs": [
    {
     "data": {
      "text/plain": [
       "[(2.0, 'Hailey'),\n",
       " (3.5, 'Angelica'),\n",
       " (4.0, 'Bill'),\n",
       " (4.0, 'Dan'),\n",
       " (4.0, 'Jordyn'),\n",
       " (6.5, 'Chan'),\n",
       " (8.7, 'Sam')]"
      ]
     },
     "execution_count": 308,
     "metadata": {},
     "output_type": "execute_result"
    }
   ],
   "source": [
    "computeNearestNeighbor('Veronica', music_critiques1)"
   ]
  },
  {
   "cell_type": "markdown",
   "metadata": {},
   "source": [
    "Returning one nearest critic to Veronica."
   ]
  },
  {
   "cell_type": "code",
   "execution_count": 309,
   "metadata": {},
   "outputs": [
    {
     "name": "stdout",
     "output_type": "stream",
     "text": [
      "Nearest neighbor is Hailey.\n"
     ]
    },
    {
     "data": {
      "text/plain": [
       "[('Broken Bells', 4.0), ('Deadmau5', 1.0), ('Vampire Weekend', 1.0)]"
      ]
     },
     "execution_count": 309,
     "metadata": {},
     "output_type": "execute_result"
    }
   ],
   "source": [
    "recommendNearestNeighbor('Veronica', music_critiques1, songs)"
   ]
  },
  {
   "cell_type": "markdown",
   "metadata": {},
   "source": [
    "Returning a list of music that Veronica didn't listen."
   ]
  },
  {
   "cell_type": "code",
   "execution_count": 310,
   "metadata": {},
   "outputs": [
    {
     "data": {
      "text/plain": [
       "['Broken Bells', 'Deadmau5', 'Vampire Weekend']"
      ]
     },
     "execution_count": 310,
     "metadata": {},
     "output_type": "execute_result"
    }
   ],
   "source": [
    "not_seen_by_Anne('Veronica', music_critiques1, songs)"
   ]
  },
  {
   "cell_type": "markdown",
   "metadata": {},
   "source": [
    "Suggesting to Veronica a recommendation between the musics based on global score."
   ]
  },
  {
   "cell_type": "code",
   "execution_count": 311,
   "metadata": {},
   "outputs": [
    {
     "name": "stdout",
     "output_type": "stream",
     "text": [
      "Best recommended movie for Veronica with Manhattan distance - Broken Bells\n",
      "Best recommended movie for Veronica with Euclidienne distance - Broken Bells\n"
     ]
    }
   ],
   "source": [
    "print(\"Best recommended movie for {} with Manhattan distance - {}\".format('Veronica', Bestrecommend_manhattan('Veronica', music_critiques1, songs)))\n",
    "print(\"Best recommended movie for {} with Euclidienne distance - {}\".format('Veronica', Bestrecommend_euclidienne('Veronica', music_critiques1, songs)))"
   ]
  },
  {
   "cell_type": "code",
   "execution_count": 312,
   "metadata": {},
   "outputs": [
    {
     "name": "stdout",
     "output_type": "stream",
     "text": [
      "Best recommended movie for Veronica with Manhattan distance - Vampire Weekend\n",
      "Best recommended movie for Veronica with Euclidienne distance - Broken Bells\n"
     ]
    }
   ],
   "source": [
    "print(\"Best recommended movie for {} with Manhattan distance - {}\".format('Veronica', BestrecommendwithExp_manhattan('Veronica', music_critiques1, songs)))\n",
    "print(\"Best recommended movie for {} with Euclidienne distance - {}\".format('Veronica', BestrecommendwithExp_euclidienne('Veronica', music_critiques1, songs)))"
   ]
  },
  {
   "cell_type": "markdown",
   "metadata": {},
   "source": [
    "Returning a suggestion to Veronica, by using the Pearson correlation coefficient."
   ]
  },
  {
   "cell_type": "code",
   "execution_count": 313,
   "metadata": {},
   "outputs": [
    {
     "name": "stdout",
     "output_type": "stream",
     "text": [
      "Best recommended movie for Veronica using Pearson correlation coefficient - Broken Bells\n"
     ]
    }
   ],
   "source": [
    "print(\"Best recommended movie for {} using Pearson correlation coefficient - {}\".format('Veronica', PearsonRecommend('Veronica', music_critiques, music_critiques1, songs)))"
   ]
  },
  {
   "cell_type": "markdown",
   "metadata": {},
   "source": [
    "Returning a suggestion to Veronica, by using the Cosine correlation coefficient."
   ]
  },
  {
   "cell_type": "code",
   "execution_count": 314,
   "metadata": {},
   "outputs": [
    {
     "name": "stdout",
     "output_type": "stream",
     "text": [
      "Best recommended movie for Veronica using Cosine correlation coefficient - Broken Bells\n"
     ]
    }
   ],
   "source": [
    "print(\"Best recommended movie for {} using Cosine correlation coefficient - {}\".format('Veronica', CosineRecommend('Veronica', music_critiques, music_critiques1, songs)))"
   ]
  },
  {
   "cell_type": "markdown",
   "metadata": {},
   "source": [
    "# Which songs you can recommend to Hailey ?"
   ]
  },
  {
   "cell_type": "markdown",
   "metadata": {},
   "source": [
    "To compute a simple similarity score, we use the Manhattan distance."
   ]
  },
  {
   "cell_type": "code",
   "execution_count": 320,
   "metadata": {},
   "outputs": [
    {
     "name": "stdout",
     "output_type": "stream",
     "text": [
      "Similarity score by Manhattan distance\n",
      "\n",
      "The similarity score between Hailey and Angelica = 5.0\n",
      "The similarity score between Hailey and Bill = 5.5\n",
      "The similarity score between Hailey and Chan = 4.0\n",
      "The similarity score between Hailey and Dan = 4.5\n",
      "The similarity score between Hailey and Jordyn = 7.5\n",
      "The similarity score between Hailey and Sam = 4.0\n",
      "The similarity score between Hailey and Veronica = 2.0\n"
     ]
    }
   ],
   "source": [
    "print(\"Similarity score by Manhattan distance\")\n",
    "print()\n",
    "\n",
    "for i in music_critiques1.columns.values:\n",
    "    for j in music_critiques1.columns.values:\n",
    "        if i != j and i == 'Hailey':\n",
    "            print(\"The similarity score between {} and {} = {}\".format(i, j, sim_distanceManhattan(music_critiques1[i], music_critiques1[j])))"
   ]
  },
  {
   "cell_type": "markdown",
   "metadata": {},
   "source": [
    "To compute a simple similarity score, we use an Euclidean distance."
   ]
  },
  {
   "cell_type": "code",
   "execution_count": 321,
   "metadata": {},
   "outputs": [
    {
     "name": "stdout",
     "output_type": "stream",
     "text": [
      "Similarity score by Euclidean distance\n",
      "\n",
      "The similarity score between Hailey and Angelica = 2.7386127875258306\n",
      "The similarity score between Hailey and Bill = 3.640054944640259\n",
      "The similarity score between Hailey and Chan = 3.1622776601683795\n",
      "The similarity score between Hailey and Dan = 3.640054944640259\n",
      "The similarity score between Hailey and Jordyn = 4.387482193696061\n",
      "The similarity score between Hailey and Sam = 2.449489742783178\n",
      "The similarity score between Hailey and Veronica = 1.4142135623730951\n"
     ]
    }
   ],
   "source": [
    "print(\"Similarity score by Euclidean distance\")\n",
    "print()\n",
    "\n",
    "for i in music_critiques1.columns.values:\n",
    "    for j in music_critiques1.columns.values:\n",
    "        if i != j and i == 'Hailey':\n",
    "            print(\"The similarity score between {} and {} = {}\".format(i, j, sim_distanceEuclidienne(music_critiques1[i], music_critiques1[j])))"
   ]
  },
  {
   "cell_type": "markdown",
   "metadata": {},
   "source": [
    "Returning a sorted list of critics close to Hailey."
   ]
  },
  {
   "cell_type": "code",
   "execution_count": 322,
   "metadata": {},
   "outputs": [
    {
     "data": {
      "text/plain": [
       "[(2.0, 'Veronica'),\n",
       " (4.0, 'Chan'),\n",
       " (4.0, 'Sam'),\n",
       " (4.5, 'Dan'),\n",
       " (5.0, 'Angelica'),\n",
       " (5.5, 'Bill'),\n",
       " (7.5, 'Jordyn')]"
      ]
     },
     "execution_count": 322,
     "metadata": {},
     "output_type": "execute_result"
    }
   ],
   "source": [
    "computeNearestNeighbor('Hailey', music_critiques1)"
   ]
  },
  {
   "cell_type": "markdown",
   "metadata": {},
   "source": [
    "Returning one nearest critic to Hailey."
   ]
  },
  {
   "cell_type": "code",
   "execution_count": 323,
   "metadata": {},
   "outputs": [
    {
     "name": "stdout",
     "output_type": "stream",
     "text": [
      "Nearest neighbor is Veronica.\n"
     ]
    },
    {
     "data": {
      "text/plain": [
       "[('Blues Traveler', 3.0), ('Phoenix', 4.0), ('Slightly Stupid', 2.5)]"
      ]
     },
     "execution_count": 323,
     "metadata": {},
     "output_type": "execute_result"
    }
   ],
   "source": [
    "recommendNearestNeighbor('Hailey', music_critiques1, songs)"
   ]
  },
  {
   "cell_type": "markdown",
   "metadata": {},
   "source": [
    "Returning a list of music that Hailey didn't listen."
   ]
  },
  {
   "cell_type": "code",
   "execution_count": 324,
   "metadata": {},
   "outputs": [
    {
     "data": {
      "text/plain": [
       "['Blues Traveler', 'Phoenix', 'Slightly Stupid']"
      ]
     },
     "execution_count": 324,
     "metadata": {},
     "output_type": "execute_result"
    }
   ],
   "source": [
    "not_seen_by_Anne('Hailey', music_critiques1, songs)"
   ]
  },
  {
   "cell_type": "markdown",
   "metadata": {},
   "source": [
    "Suggesting to Hailey a recommendation between the musics based on global score."
   ]
  },
  {
   "cell_type": "code",
   "execution_count": 325,
   "metadata": {},
   "outputs": [
    {
     "name": "stdout",
     "output_type": "stream",
     "text": [
      "Best recommended movie for Hailey with Manhattan distance - Phoenix\n",
      "Best recommended movie for Hailey with Euclidienne distance - Phoenix\n"
     ]
    }
   ],
   "source": [
    "print(\"Best recommended movie for {} with Manhattan distance - {}\".format('Hailey', Bestrecommend_manhattan('Hailey', music_critiques1, songs)))\n",
    "print(\"Best recommended movie for {} with Euclidienne distance - {}\".format('Hailey', Bestrecommend_euclidienne('Hailey', music_critiques1, songs)))"
   ]
  },
  {
   "cell_type": "code",
   "execution_count": 326,
   "metadata": {},
   "outputs": [
    {
     "name": "stdout",
     "output_type": "stream",
     "text": [
      "Best recommended movie for Hailey with Manhattan distance - Phoenix\n",
      "Best recommended movie for Hailey with Euclidienne distance - Phoenix\n"
     ]
    }
   ],
   "source": [
    "print(\"Best recommended movie for {} with Manhattan distance - {}\".format('Hailey', BestrecommendwithExp_manhattan('Hailey', music_critiques1, songs)))\n",
    "print(\"Best recommended movie for {} with Euclidienne distance - {}\".format('Hailey', BestrecommendwithExp_euclidienne('Hailey', music_critiques1, songs)))"
   ]
  },
  {
   "cell_type": "markdown",
   "metadata": {},
   "source": [
    "Returning a suggestion to Hailey, by using the Pearson correlation coefficient."
   ]
  },
  {
   "cell_type": "code",
   "execution_count": 327,
   "metadata": {},
   "outputs": [
    {
     "name": "stdout",
     "output_type": "stream",
     "text": [
      "Best recommended movie for Hailey using Pearson correlation coefficient - Phoenix\n"
     ]
    }
   ],
   "source": [
    "print(\"Best recommended movie for {} using Pearson correlation coefficient - {}\".format('Hailey', PearsonRecommend('Hailey', music_critiques, music_critiques1, songs)))"
   ]
  },
  {
   "cell_type": "markdown",
   "metadata": {},
   "source": [
    "Returning a suggestion to Hailey, by using the Cosine correlation coefficient."
   ]
  },
  {
   "cell_type": "code",
   "execution_count": 328,
   "metadata": {},
   "outputs": [
    {
     "name": "stdout",
     "output_type": "stream",
     "text": [
      "Best recommended movie for Hailey using Cosine correlation coefficient - Phoenix\n"
     ]
    }
   ],
   "source": [
    "print(\"Best recommended movie for {} using Cosine correlation coefficient - {}\".format('Hailey', CosineRecommend('Hailey', music_critiques, music_critiques1, songs)))"
   ]
  },
  {
   "cell_type": "markdown",
   "metadata": {},
   "source": [
    "# 3. Elaborate movies recommendations"
   ]
  },
  {
   "cell_type": "markdown",
   "metadata": {},
   "source": [
    "Build a function to get a value with 0.5 step."
   ]
  },
  {
   "cell_type": "code",
   "execution_count": 329,
   "metadata": {},
   "outputs": [],
   "source": [
    "def round_custom(num, step):\n",
    "    return round(num / step) * step"
   ]
  },
  {
   "cell_type": "code",
   "execution_count": 470,
   "metadata": {},
   "outputs": [
    {
     "name": "stdout",
     "output_type": "stream",
     "text": [
      "Type a number of critics (n): 10\n",
      "Type a number of movies (m): 10\n",
      "Best recommended movie for c6 with Manhattan distance - m4\n",
      "Best recommended with Exp movie for c6 with Manhattan distance - m1\n",
      "Best recommended with Exp movie for c6 with Euclidienne distance - m3\n",
      "Best recommended movie for c6 using Pearson correlation coefficient - m5\n",
      "Best recommended movie for c6 using Cosine correlation coefficient - m5\n",
      "     c0   c1   c2   c3   c4   c5   c6   c7   c8   c9\n",
      "m0  NaN  1.5  0.5  3.0  4.0  2.0  4.5  1.0  3.5  2.5\n",
      "m1  3.0  NaN  4.0  4.5  1.5  NaN  NaN  4.0  1.0  2.0\n",
      "m2  1.5  NaN  0.5  NaN  2.5  4.0  4.5  2.0  2.5  NaN\n",
      "m3  1.0  0.5  0.5  NaN  4.5  0.5  NaN  4.5  2.0  3.0\n",
      "m4  3.0  4.0  3.0  2.5  NaN  1.0  NaN  4.5  NaN  5.0\n",
      "m5  1.0  NaN  1.5  3.0  2.5  4.0  NaN  2.5  3.0  NaN\n",
      "m6  3.5  NaN  NaN  1.5  NaN  2.5  4.0  NaN  NaN  4.0\n",
      "m7  1.5  NaN  3.0  4.0  NaN  1.5  2.5  1.0  1.5  NaN\n",
      "m8  1.0  NaN  2.5  NaN  NaN  4.5  2.5  NaN  5.0  0.5\n",
      "m9  2.0  NaN  3.5  NaN  3.5  4.0  NaN  3.0  NaN  1.5\n"
     ]
    }
   ],
   "source": [
    "def GenerateData(n, m):\n",
    "    \n",
    "    #create a condition, so that the function only works when the parameters are set correctly\n",
    "    if n >= 10 and m >= 10:\n",
    "        \n",
    "        columns = [''] * n\n",
    "        rows = [''] * m\n",
    "        count_nan = 0\n",
    "        \n",
    "        for i in range(n): columns[i] = \"c\" + str(int(i))\n",
    "        for j in range(m): rows[j] = \"m\" + str(int(j))\n",
    "            \n",
    "        rng = np.random.default_rng()\n",
    "        gendata = pd.DataFrame(rng.uniform(0, 5, size = (m, n)), rows, columns)\n",
    "        \n",
    "        for i in rows:\n",
    "            for j in columns:\n",
    "                gendata.loc[i][j] = round_custom(gendata.loc[i][j], 0.5)\n",
    "                if gendata.loc[i][j] == 0.0:\n",
    "                    count_nan += 1\n",
    "\n",
    "        for critique_index in range(len(gendata.columns.values)):\n",
    "            for critique_row in range(len(gendata.index.values)):\n",
    "                if count_nan / (n * m) <= 0.3 or count_nan / (n * m) >= 0.5:\n",
    "                    new_n = 0\n",
    "                    new_m = 0\n",
    "                    new_n = random.randint(1, n-1)\n",
    "                    new_m = random.randint(1, m-1)\n",
    "                    if(gendata[gendata.columns.values[new_n]][gendata.index.values[new_m]] != 0.0):\n",
    "                        gendata[gendata.columns.values[new_n]][gendata.index.values[new_m]] = 0.0\n",
    "                        count_nan +=1\n",
    "\n",
    "        gendata1 = gendata.to_dict()\n",
    "        mov = (gendata.index)\n",
    "        \n",
    "        count = 0\n",
    "        critic5more = {}\n",
    "        person = ''\n",
    "        \n",
    "        for i in gendata1:\n",
    "            for j in gendata1[i]:\n",
    "                if gendata1[i][j] == 0.0:\n",
    "                    count +=1\n",
    "            if count >= m/2:\n",
    "                critic5more = gendata1[i]\n",
    "            count = 0\n",
    "            \n",
    "        for i in rows:\n",
    "            for j in columns:\n",
    "                if gendata.loc[i][j] == 0.0:\n",
    "                    gendata.loc[i][j] = np.nan\n",
    "\n",
    "        for i in gendata.columns.values:\n",
    "            if gendata1[i] == critic5more:\n",
    "                person = i\n",
    "\n",
    "        a = Bestrecommend_manhattan(person, gendata, mov)\n",
    "        b = BestrecommendwithExp_manhattan(person, gendata, mov)\n",
    "        c = BestrecommendwithExp_euclidienne(person, gendata, mov)\n",
    "        d = PearsonRecommend(person, gendata1, gendata, mov)\n",
    "        e = CosineRecommend(person, gendata1, gendata, mov)\n",
    "        \n",
    "        if a != b and a != c and a != d and a != e and b != c and b != d and b != e and c != e:\n",
    "            print(\"Best recommended movie for {} with Manhattan distance - {}\".format(person, a))\n",
    "            print(\"Best recommended with Exp movie for {} with Manhattan distance - {}\".format(person, b))\n",
    "            print(\"Best recommended with Exp movie for {} with Euclidienne distance - {}\".format(person, c))\n",
    "            print(\"Best recommended movie for {} using Pearson correlation coefficient - {}\".format(person, d))\n",
    "            print(\"Best recommended movie for {} using Cosine correlation coefficient - {}\".format(person, e))\n",
    "            print(gendata)\n",
    "            \n",
    "        else: \n",
    "            GenerateData(n, m)\n",
    "\n",
    "    else:\n",
    "        return (\"Please try again! n and m should be bigger than 10\" )\n",
    "    \n",
    "n = input(\"Type a number of critics (n): \")\n",
    "m = input(\"Type a number of movies (m): \")\n",
    "\n",
    "GenerateData(int(n), int(m))"
   ]
  }
 ],
 "metadata": {
  "kernelspec": {
   "display_name": "Python 3",
   "language": "python",
   "name": "python3"
  },
  "language_info": {
   "codemirror_mode": {
    "name": "ipython",
    "version": 3
   },
   "file_extension": ".py",
   "mimetype": "text/x-python",
   "name": "python",
   "nbconvert_exporter": "python",
   "pygments_lexer": "ipython3",
   "version": "3.8.3"
  }
 },
 "nbformat": 4,
 "nbformat_minor": 5
}
